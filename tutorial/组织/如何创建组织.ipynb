{
  "cells": [
    {
      "cell_type": "markdown",
      "metadata": {},
      "source": [
        "本篇文章介绍如何创建新组织。由于ModelScope仍处于测试阶段，创建组织功能仅对部分用户开放。\n",
        "# 如何申请\n",
        "请按照以下格式，发送邮件至ModelScope官方邮箱（[contact@modelscope.cn](mailto:contact@modelscope.cn)），我们将有专人和您邮箱联系。\n",
        "\n",
        "- 邮件标题：【组织创建申请】xxx组织**（填写您想创建的组织名）**\n",
        "- 邮件正文\n",
        "   - 组织名：组织对外的展示名称\n",
        "   - 组织代码：限英文和数字，不能以数字开头，该组织代码将用于创建代码仓库\n",
        "   - 组织类型：可填学校/研究机构/企业\n",
        "   - 申请目的：介绍您创建组织的目的\n",
        "   - 管理员用户名：您希望添加为组织管理员的用户名\n",
        "   - 联系方式：后续和您取得联系的方式，可填写邮箱和手机号\n",
        "\n",
        "模板示例：\n",
        "![image.png](./resources/1663054450215-36d83781-e83d-4c7d-b012-5af460441120.png)\n",
        "\n",
        "# 申请成功\n",
        "若创建组织申请通过，您将收到邮件回复，登录ModelScope账号后可在个人控制台内看到您已创建的组织。\n",
        "\n"
      ]
    }
  ],
  "metadata": {
    "kernelspec": {
      "display_name": "Python 3",
      "language": "python",
      "name": "python3"
    },
    "language_info": {
      "codemirror_mode": {
        "name": "ipython",
        "version": 3
      },
      "file_extension": ".py",
      "mimetype": "text/x-python",
      "name": "python",
      "nbconvert_exporter": "python",
      "pygments_lexer": "ipython3",
      "version": "3.6.0"
    }
  },
  "nbformat": 4,
  "nbformat_minor": 0
}
