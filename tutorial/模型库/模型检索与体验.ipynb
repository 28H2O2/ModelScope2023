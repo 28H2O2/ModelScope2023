{
  "cells": [
    {
      "cell_type": "markdown",
      "metadata": {},
      "source": [
        "本篇文章介绍ModelScope的模型检索与在线demo体验部分。\n",
        "\n",
        "登录ModelScope网站，点击模型库，您将看见社区平台所有的模型列表。可根据任务类型筛选所需的模型，也可搜索模型名称或关键词检索。当前社区模型内容持续更新拓展中，欢迎加入社区贡献有趣的想法和内容！更多优质的模型与数据集加速入驻中，敬请期待。\n",
        "![image.png](./resources/1659697116293-5c808577-46fb-4f7e-b7c5-94cd14e39b80.png)\n",
        "您可通过任务或其他标签筛选您所需的模型，也可通过搜索框直接搜索模型的名称或描述，系统将为您匹配相关的模型。\n",
        "若您对该模型感兴趣，可点击模型卡片查看模型详情。点击模型卡片，页面将介绍该模型具体的内容，您将看见模型介绍、模型的效果评估、关联数据集或引用论文等信息。模型卡片的右侧有在线demo体验，您可以切换示例查看模型的输入输出结果和json结果。\n",
        "\n",
        "![image.png](./resources/1659852179393-ab2186ca-67d9-4c42-a7b0-a9bc66e636c9.png)\n",
        "\n",
        "当前在线体验仅支持部分模型在线体验，后续将支持用户自行根据模板接入在线体验模块。\n",
        "在执行在线体验前，请您仔细阅读并理解相关[免责声明](../用户协议/用户协议与隐私政策.ipynb)，并合法合规使用在线体验的模块功能。\n",
        "![image.png](./resources/1659685822158-21f7f8f3-7224-4a79-8699-3bd795fed52b.png)\n",
        "\n",
        "若您对模型效果满意，想进一步了解并对该模型进行代码验证，您可点击“快速使用”查看具体的代码示例方法。平台提供了两种方式的模型下载：\n",
        "1）通过ModelScope Library安装下载。\n",
        "2）通过git拉取仓库。\n",
        "这两种方式可以在本地运行模型。但需要先安装ModelScope Library才能运行代码，具体参见第二步【环境准备】-【本地开发环境安装】。\n",
        "**同时，我们也提供了在线Notebook，为您准备了模型所需的运行环境，无需用户自行安装依赖环境，使用更加流畅，推荐使用此种方式进行模型的深度体验！**具体参见第二步【环境安装】-【在Notebook中开发】。\n",
        "\n",
        "![image.png](./resources/1659696566667-d556d6d2-15b9-43a8-9558-f63488a94d76.png)\n",
        "\n",
        "若您对该模型满意，可点击收藏按钮，点击后可在个人中心-我的动态里访问到该模型。\n",
        "![image.png](./resources/1659698542805-17c7bc72-b0dd-4674-9d7e-a11267cba7ca.png)\n",
        "![111.jpg](./resources/1659698505124-9768c458-8b4b-41ca-92bc-05c7256d417f.jpeg)\n"
      ]
    }
  ],
  "metadata": {
    "kernelspec": {
      "display_name": "Python 3",
      "language": "python",
      "name": "python3"
    },
    "language_info": {
      "codemirror_mode": {
        "name": "ipython",
        "version": 3
      },
      "file_extension": ".py",
      "mimetype": "text/x-python",
      "name": "python",
      "nbconvert_exporter": "python",
      "pygments_lexer": "ipython3",
      "version": "3.6.0"
    }
  },
  "nbformat": 4,
  "nbformat_minor": 0
}
