{
  "cells": [
    {
      "cell_type": "markdown",
      "metadata": {},
      "source": [
        "使用Notebook前，您需要建立Notebook实例。本文将介绍如何创建、打开Notebook实例和管理实例。\n",
        "# 前提条件\n",
        "您在创建Notebok实例前，需要先登录**ModelScope账号**。\n",
        "# 创建实例\n",
        "\n",
        "- 您可以在**个人中心 \u003e 我的Notebook**内创建新实例，可选择创建GPU实例或GPU实例。界面内将通过倒计时展示GPU资源剩余额度（平台赠送的详见[免费额度说明](../免费额度说明.ipynb)）。\n",
        "\n",
        "![222.jpg](./resources/1659699076106-783272aa-1fb9-413b-a506-cbf8bfd35903.jpeg)\n",
        "\n",
        "- **ModelScope模型详情页**内同样支持创建新实例。\n",
        "\n",
        "![image.png](./resources/1659699116538-d8c84f0d-7af4-43eb-91a4-cabe106b0dfe.png)\n",
        "![image.png](./resources/1659699137131-78b80dca-899f-4073-99ed-cb0d3b5aa8a5.png)\n",
        "# 实例状态管理\n",
        "\n",
        "- 运行中的实例，支持重新打开Notebook界面和关闭实例。\n",
        "   - 点击**查看notebook**，您可以在新标签页内打开运行中的Notebook实例。\n",
        "   - 点击**关闭实例**后，您在Notebook内的代码运行进程终止，已保存的Notebook文件将存储在您的NAS云盘内，下次访问后可重新启动实例继续编辑。\n",
        "# 实例界面介绍\n",
        "## 界面构成\n",
        "从**模型详情页**或**个人中心**启动实例环境后，进入Notebook实例界面。Notebook实例界面主要包括以下部分：\n",
        "\n",
        "![image.png](./resources/1659691224220-402da583-5be6-4188-aa68-6f14c7aa63c9.png)\n",
        "\n",
        "| **功能区编号** | **描述** |\n",
        "| --- | --- |\n",
        "| ① | 顶部菜单栏。 |\n",
        "| ② | 左侧工具栏。 |\n",
        "| ③ | 工具内容。 |\n",
        "| ④ | 主工作区。 |\n",
        "\n",
        "## 创建Notebook新文件\n",
        "在Launcher页，点击**主工作区**内不同文件选项，创建新文件\n",
        "\n",
        "- 若您希望通过Python 3语言在IDE内进行代码开发，可点击下方红框按钮，创建新ipynb文件\n",
        "\n",
        "![image.png](./resources/1659691953353-a5da38f2-8282-41ae-8779-5a1ec4592603.png)\n",
        "\n",
        "- 若您希望通过CLI提交训练任务或执行依赖包管理等操作，可点击下方红框按钮，打开Terminal页面\n",
        "\n",
        "![image.png](./resources/1659692246657-6bda07e7-e11b-4de5-b656-862e4f01b96b.png)\n",
        "## Notebook内开发\n",
        "若您选择创建新ipynb文件，可在主工作区内使用Python 3语言进行代码开发。您可直接复制**模型详情页**内**快速使用**代码，在主工作区内执行模型推理、训练、评估等任务操作。\n",
        "\n",
        "![image.png](./resources/1659692410266-eafea86e-bbf0-488a-be9a-b75751933403.png)\n",
        "## Terminal内开发\n",
        "若您选择打开Terminal，可在工作区内使用CLI命令执行任务，包括：\n",
        "\n",
        "- 代码发布\n",
        "- 依赖包管理\n",
        "- 文件管理\n",
        "- 提交训练/推理/评估任务\n",
        "\n",
        "![image.png](./resources/1659692843657-51f60252-289f-46a5-97d2-76c24f2f61a6.png)\n",
        " \n"
      ]
    }
  ],
  "metadata": {
    "kernelspec": {
      "display_name": "Python 3",
      "language": "python",
      "name": "python3"
    },
    "language_info": {
      "codemirror_mode": {
        "name": "ipython",
        "version": 3
      },
      "file_extension": ".py",
      "mimetype": "text/x-python",
      "name": "python",
      "nbconvert_exporter": "python",
      "pygments_lexer": "ipython3",
      "version": "3.6.0"
    }
  },
  "nbformat": 4,
  "nbformat_minor": 0
}
