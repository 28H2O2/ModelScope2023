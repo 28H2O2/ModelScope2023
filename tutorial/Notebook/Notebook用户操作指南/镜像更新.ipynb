{
  "cells": [
    {
      "cell_type": "markdown",
      "metadata": {},
      "source": [
        "本文将介绍如何更新镜像及重新启动更新镜像后的实例。\n",
        "# 如何获取镜像更新通知\n",
        "进入**个人中心 \u003e 我的Notebook**后，您将在启动镜像按钮处看到更新镜像提示。\n",
        "![image.png](./resources/1663209465960-44cd7f73-3ff9-4c3f-8772-8f52ec6edd84.png)\n",
        "# 保存原有实例中的文件\n",
        "需要注意的是，直接更新镜像文件不会保存，可先前往**原有实例**中进行文件保存后再更新镜像并启动，即您可以先启动原有实例，确保文件均已保存后再关闭实例，更新镜像。若您已打开实例，保存文件后关闭实例即可。\n",
        "![image.png](./resources/1663210173680-15eb5f27-54a2-49bf-9df2-c56162718e9c.png)\n",
        "# 镜像更新\n",
        "点击**更新镜像并启动**按钮，后台将自动更新实例并载入最新版本镜像，更新时间大约在1-2分钟内。完成更新后，镜像版本信息将同步更新，并自动为您打开载入最新版本镜像的新实例。\n",
        "![image.png](./resources/1663209709494-037e73ae-9974-45ab-a94a-477aea5aa9db.png)\n",
        "\n"
      ]
    }
  ],
  "metadata": {
    "kernelspec": {
      "display_name": "Python 3",
      "language": "python",
      "name": "python3"
    },
    "language_info": {
      "codemirror_mode": {
        "name": "ipython",
        "version": 3
      },
      "file_extension": ".py",
      "mimetype": "text/x-python",
      "name": "python",
      "nbconvert_exporter": "python",
      "pygments_lexer": "ipython3",
      "version": "3.6.0"
    }
  },
  "nbformat": 4,
  "nbformat_minor": 0
}
