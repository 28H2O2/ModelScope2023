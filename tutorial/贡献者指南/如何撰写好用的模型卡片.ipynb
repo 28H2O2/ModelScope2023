{
  "cells": [
    {
      "cell_type": "markdown",
      "metadata": {},
      "source": [
        "本篇文章介绍模型卡片的示例。\n",
        "\n",
        "模型卡片是ModelScope社区用户获取模型信息的关键来源，好的模型卡片可以帮助用户更好地理解您的模型内容，也可以增加模型的可见性、可搜索性和易读性。 如下为官方推荐的一个模型卡片样例，可供参考。附上[https://modelscope.cn/#/models/damo/ofa_image-caption_coco_large_en/](https://test.modelscope.cn/#/models/damo/ofa_image-caption_coco_large_en/)\n",
        "\n",
        "**# \u003c模型名字\u003e介绍**\n",
        "介绍模型的基本信息。\n",
        "\n",
        "**## 模型描述**\n",
        "提供模型描述，包括模型结构，使用的训练数据集，以及适用场景等等内容。\n",
        "\n",
        "**## 期望模型使用方式以及适用范围**\n",
        "介绍模型的目标使用场景。\n",
        "\n",
        "**### 如何使用**\n",
        "介绍模型如何使用，包括如何进行模型推理等等信息。在这里希望模型提供者能提供\n",
        "详尽的范例以及代码片段来介绍模型的使用方法。对于需要配置负责运行环境的模型，\n",
        "也可以在这里提供怎样配置模型运行环境的详细介绍。\n",
        "\n",
        "如果模型支持finetune功能的话，在本章节也应该提供如果准备finetune可能需要的\n",
        "数据集格式。\n",
        "\n",
        "**#### 代码范例**\n",
        "提供代码块\n",
        "\n",
        "**### 模型局限性以及可能的偏差**\n",
        "介绍模型适用的场景，以及在哪些场景可能存在局限性，以及模型在构造训练过程中，\n",
        "本身可能带有的，由于训练数据以及训练方法等因素引入的偏向性。\n",
        "\n",
        "**## 训练数据介绍**\n",
        "训练数据是如何获取，组织，以及针对模型的需求进行格式话的。\n",
        "\n",
        "**## 模型训练流程**\n",
        "描述模型是如何具体训练出来的。\n",
        "\n",
        "**### 预处理**\n",
        "\n",
        "**### 训练**\n",
        "\n",
        "**## 数据评估及结果**\n",
        "提供模型在不同数据集上的性能评测，包括评测数据是如何获得的。评测结果本身\n",
        "可以通过表格，图像等多种方法做展示。\n",
        "\n",
        "**### 相关论文以及引用信息**\n",
        "如果本模型有相关论文发表，或者是基于某些论文的结果，可以在这里\n",
        "提供Bibtex格式的参考文献。\n",
        "\n",
        "[\n",
        "](https://test.modelscope.cn/#/models/damo/ofa_image-caption_coco_large_en/)\n"
      ]
    }
  ],
  "metadata": {
    "kernelspec": {
      "display_name": "Python 3",
      "language": "python",
      "name": "python3"
    },
    "language_info": {
      "codemirror_mode": {
        "name": "ipython",
        "version": 3
      },
      "file_extension": ".py",
      "mimetype": "text/x-python",
      "name": "python",
      "nbconvert_exporter": "python",
      "pygments_lexer": "ipython3",
      "version": "3.6.0"
    }
  },
  "nbformat": 4,
  "nbformat_minor": 0
}
