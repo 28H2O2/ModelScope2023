{
  "cells": [
    {
      "cell_type": "markdown",
      "metadata": {},
      "source": [
        "本篇文章介绍如何在ModelScope社区下载所需的数据集。\n",
        "\n",
        "若您需要在ModelScope平台上有感兴趣的数据集并希望能下载至本地，则ModelScope提供了多种下载数据集的方式。\n",
        "#  使用Python SDK下载数据集\n",
        "您可以使用ModelScope msdataset从 repos 创建、删除、更新和检索信息。您还可以从 repos 下载文件或将它们集成到您的库中，并且可指定下载数据集的地址。\n"
      ]
    },
    {
      "cell_type": "code",
      "metadata": {
        "editable": true
      },
      "source": [
        "from modelscope.msdatasets import MsDataset\n",
        "ds = MsDataset.load('afqmc_small', split='train')\n"
      ],
      "outputs": [
        {
          "name": "stdout",
          "output_type": "stream",
          "text": [
            "\n"
          ]
        }
      ],
      "execution_count": 1
    },
    {
      "cell_type": "markdown",
      "metadata": {},
      "source": [
        "有关更多详细信息，请参阅MsDataset.load() API的技术文档。\n",
        "#  使用页面下载数据集\n",
        "对于托管在ModelScope的数据集，进入数据文件标签页面，点击下载按钮即可。\n",
        "![image.png](./resources/1661488009942-257dcfdd-b65b-46c5-aec4-57f0dfd4d6f2.png)\n"
      ]
    }
  ],
  "metadata": {
    "kernelspec": {
      "display_name": "Python 3",
      "language": "python",
      "name": "python3"
    },
    "language_info": {
      "codemirror_mode": {
        "name": "ipython",
        "version": 3
      },
      "file_extension": ".py",
      "mimetype": "text/x-python",
      "name": "python",
      "nbconvert_exporter": "python",
      "pygments_lexer": "ipython3",
      "version": "3.6.0"
    }
  },
  "nbformat": 4,
  "nbformat_minor": 0
}
