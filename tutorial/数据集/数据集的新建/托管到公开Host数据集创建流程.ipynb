{
  "cells": [
    {
      "cell_type": "markdown",
      "metadata": {},
      "source": [
        "### 1、创建数据集前需要先登陆。登陆以后，点击页面右上角的按钮开始创建数据集：![image.png](./resources/1662706899440-b0638f17-970c-4dbb-8a9d-9ac0ac11fde1.png)\n",
        "\n",
        "### 2、填入必要的数据集信息：![image.png](./resources/1662707977335-a2c86e7d-ef05-4a34-9706-7d0ef027478f.png)\n",
        "\n",
        "### 3、点击“创建数据集”，成一个空白数据集的创建，进入到了数据集卡片页面![image.png](./resources/1662707164210-35979cea-01ae-4b4c-b047-cf2c3363dbf4.png)\n",
        "\n",
        "\n",
        "#### 3.1、点击查看“数据预览”tab：![image.png](./resources/1662707245676-62b79c18-228c-4935-98a2-b388222b60ec.png)\n",
        "#### \n",
        "3.2、默认系统会为您生成一个README.ipynb文件以及一个空的Python文件供填写：![image.png](./resources/1662707454422-7cc32229-9b46-41a1-a83a-eaacc604edbd.png)\n",
        "\n",
        "关于README文件和Python文件的编写，可以查看“**数据集文件规范**”部分\n",
        "### 4、编辑完Python文件以后，可以在“数据集文件里”刷新后看到，同时会触发一个后台的流程对文件进行检查以及预览数据的生成：![image.png](./resources/1662707728610-11d0f349-034b-4313-b150-dcbaa8b61a08.png)\n",
        "\n",
        "### 5、耐心等待一段时间以后（此处会有几分钟的延迟，取决于Python文件本身的运行速度，以及媒资数据从公开Host拉取的速度），可以在 “数据预览”tab下看到供预览的数据：![image.png](./resources/1662707774951-5dd5252d-f223-4355-9059-ffec008e2f07.png)\n",
        "\n",
        "### 6、至此，一个数据集就被创建好了。后续可以持续完善README.ipynb文件，给数据集打上标签，便于被检索到\n",
        "![image.png](./resources/1662707847052-1eb77b14-2c13-49e0-a629-bc0d90fbcf64.png)\n",
        "![image.png](./resources/1662707899929-5a02ef26-5ccd-487b-8d85-26ef063a4b0e.png)\n"
      ]
    }
  ],
  "metadata": {
    "kernelspec": {
      "display_name": "Python 3",
      "language": "python",
      "name": "python3"
    },
    "language_info": {
      "codemirror_mode": {
        "name": "ipython",
        "version": 3
      },
      "file_extension": ".py",
      "mimetype": "text/x-python",
      "name": "python",
      "nbconvert_exporter": "python",
      "pygments_lexer": "ipython3",
      "version": "3.6.0"
    }
  },
  "nbformat": 4,
  "nbformat_minor": 0
}
