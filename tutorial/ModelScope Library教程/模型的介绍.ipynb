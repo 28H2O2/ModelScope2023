{
  "cells": [
    {
      "cell_type": "markdown",
      "metadata": {},
      "source": [
        "# 模型\n",
        "\n",
        "模型在深度学习中是最基本、最重要的概念。它代表了一个可用于训练（或推理）的数学整体。处理好的数据被输入到模型中，模型会给出预测的值以便使用，\n",
        "也可以给出预测值和实际的标签值的差异（loss，或称为残差）以便于训练优化模型本身。\n",
        "\n",
        "每个模型都有与之配套的[预处理过程](./数据的预处理.ipynb)，该过程可以将原始数据转换为模型可接受的张量型输入。\n",
        "\n",
        "# ModelScope的模型\n",
        "\n",
        "ModelScope提供了各模态的多种多样的模型，您可以登录[模型官网](www.modelscope.cn)来查看它们。\n",
        "这些模型中很多模型可以直接用于[推理](./模型的推理Pipeline.ipynb)，一部分模型为了更好的定制性需要[训练](./模型的训练Train.ipynb)才能用在推理中，有关模型的下载和使用您可以查看[模型库的文档](../模型库/模型库介绍.ipynb)。\n",
        "\n",
        "ModelScope的模型可以以非常简单的方式被调用加载：\n",
        "\n"
      ]
    },
    {
      "cell_type": "code",
      "metadata": {
        "editable": true
      },
      "source": [
        "from modelscope.models import Model\n",
        "model = Model.from_pretrained('damo/nlp_structbert_word-segmentation_chinese-base')\n"
      ],
      "outputs": [
        {
          "name": "stdout",
          "output_type": "stream",
          "text": [
            "\n"
          ]
        }
      ],
      "execution_count": 1
    },
    {
      "cell_type": "markdown",
      "metadata": {},
      "source": [
        "\n",
        "该过程会在内部执行：\n",
        "1. 使用字符串代表的model_id将模型下载到本地\n",
        "2. 查看模型的[配置](../开发者使用指南/Configuration详解.ipynb)，找到模型名称和任务类型，并从模型注册工厂类中找到模型类\n",
        "3. 将配置文件中model字段的参数传入给模型类并初始化该模型类\n",
        "4. 载入二进制模型文件，把文件中的模型参数填充进模型类中\n",
        "\n",
        "# 编写自定义模型\n",
        "\n",
        "ModelScope提供了模型基类：\n",
        "\n"
      ]
    },
    {
      "cell_type": "code",
      "metadata": {
        "editable": true
      },
      "source": [
        "class Model(ABC):\n",
        "\n",
        "    def __init__(self, model_dir, *args, **kwargs):\n",
        "        self.model_dir = model_dir\n",
        "        device_name = kwargs.get('device', 'gpu')\n",
        "        verify_device(device_name)\n",
        "        self._device_name = device_name\n",
        "\n",
        "    def __call__(self, *args, **kwargs) -\u003e Dict[str, Any]:\n",
        "        return self.postprocess(self.forward(*args, **kwargs))\n",
        "\n",
        "    @abstractmethod\n",
        "    def forward(self, *args, **kwargs) -\u003e Dict[str, Any]:\n",
        "        pass\n",
        "\n",
        "    def postprocess(self, inputs: Dict[str, Any], **kwargs) -\u003e Dict[str, Any]:\n",
        "        return inputs\n",
        "\n",
        "    @classmethod\n",
        "    def _instantiate(cls, **kwargs):\n",
        "        return cls(**kwargs)\n",
        "\n",
        "    @classmethod\n",
        "    def from_pretrained(cls,\n",
        "                        model_name_or_path: str,\n",
        "                        revision: Optional[str] = DEFAULT_MODEL_REVISION,\n",
        "                        cfg_dict: Config = None,\n",
        "                        device: str = None,\n",
        "                        *model_args,\n",
        "                        **kwargs):\n",
        "        pass\n",
        "\n",
        "    def save_pretrained(self,\n",
        "                        target_folder: Union[str, os.PathLike],\n",
        "                        save_checkpoint_names: Union[str, List[str]] = None,\n",
        "                        save_function: Callable = None,\n",
        "                        config: Optional[dict] = None,\n",
        "                        **kwargs):\n",
        "        pass\n"
      ],
      "outputs": [
        {
          "name": "stdout",
          "output_type": "stream",
          "text": [
            "\n"
          ]
        }
      ],
      "execution_count": 1
    },
    {
      "cell_type": "markdown",
      "metadata": {},
      "source": [
        "\n",
        "以及PyTorch的模型基类：\n"
      ]
    },
    {
      "cell_type": "code",
      "metadata": {
        "editable": true
      },
      "source": [
        "class TorchModel(Model, torch.nn.Module):\n",
        "    \"\"\" Base model interface for pytorch\n",
        "\n",
        "    \"\"\"\n",
        "\n",
        "    def __init__(self, model_dir=None, *args, **kwargs):\n",
        "        super().__init__(model_dir, *args, **kwargs)\n",
        "        torch.nn.Module.__init__(self)\n",
        "\n",
        "    def __call__(self, *args, **kwargs) -\u003e Dict[str, Any]:\n",
        "        pass\n",
        "\n",
        "    def forward(self, *args, **kwargs) -\u003e Dict[str, Any]:\n",
        "        raise NotImplementedError\n",
        "    \n",
        "    ...\n"
      ],
      "outputs": [
        {
          "name": "stdout",
          "output_type": "stream",
          "text": [
            "\n"
          ]
        }
      ],
      "execution_count": 1
    },
    {
      "cell_type": "markdown",
      "metadata": {},
      "source": [
        "\n",
        "用户可以继承TorchModel或Model（非PyTorch场景）来编写新的模型类，下面的例子是一个自定义的PyTorch模型：\n",
        "\n"
      ]
    },
    {
      "cell_type": "code",
      "metadata": {
        "editable": true
      },
      "source": [
        "import torch.nn\n",
        "from modelscope.models.base import TorchModel\n",
        "\n",
        "\n",
        "class MyCustomModel(TorchModel):\n",
        "\n",
        "    def __init__(self, model_dir, *args, **kwargs):\n",
        "        super().__init__(model_dir, *args, **kwargs)\n",
        "        self.linear = torch.nn.Linear(128, 1)\n",
        "\n",
        "    def forward(self, input_tensor):\n",
        "        return self.linear(input_tensor)\n",
        "\n",
        "    @classmethod\n",
        "    def _instantiate(cls, **kwargs):\n",
        "        # 这个静态方法会在Registry中调用，可以在这里初始化模型\n",
        "        return cls(**kwargs)\n"
      ],
      "outputs": [
        {
          "name": "stdout",
          "output_type": "stream",
          "text": [
            "\n"
          ]
        }
      ],
      "execution_count": 1
    },
    {
      "cell_type": "markdown",
      "metadata": {},
      "source": [
        "\n",
        "可以像这样调用它：\n"
      ]
    },
    {
      "cell_type": "code",
      "metadata": {
        "editable": true
      },
      "source": [
        "import torch\n",
        "model = MyCustomModel(None)\n",
        "input_tensor = torch.rand((1, 128))\n",
        "print(model.forward(input_tensor))\n"
      ],
      "outputs": [
        {
          "name": "stdout",
          "output_type": "stream",
          "text": [
            "\n"
          ]
        }
      ],
      "execution_count": 1
    },
    {
      "cell_type": "markdown",
      "metadata": {},
      "source": [
        "\n",
        "可以将模型手动注册到模型工厂中以便在推理或训练中使用：\n",
        "\n"
      ]
    },
    {
      "cell_type": "code",
      "metadata": {
        "editable": true
      },
      "source": [
        "from modelscope.models.builder import MODELS\n",
        "MODELS.register_module('my-custom-task', module_name='my-custom-model', module_cls=MyCustomModel)\n"
      ],
      "outputs": [
        {
          "name": "stdout",
          "output_type": "stream",
          "text": [
            "\n"
          ]
        }
      ],
      "execution_count": 1
    },
    {
      "cell_type": "markdown",
      "metadata": {},
      "source": [
        "\n",
        "这样，您可以通过from_pretrained方法调起：\n"
      ]
    },
    {
      "cell_type": "code",
      "metadata": {
        "editable": true
      },
      "source": [
        "from modelscope.utils.config import Config\n",
        "from modelscope.models import Model\n",
        "config = Config({'task': 'my-custom-task', 'model': {'type': 'my-custom-model'}})\n",
        "config.dump('/tmp/configuration.json')\n",
        "model = Model.from_pretrained('/tmp')\n",
        "print(model.forward(input_tensor))\n"
      ],
      "outputs": [
        {
          "name": "stdout",
          "output_type": "stream",
          "text": [
            "\n"
          ]
        }
      ],
      "execution_count": 1
    },
    {
      "cell_type": "markdown",
      "metadata": {},
      "source": [
        "_instantiate方法用于通过静态方法拉起模型，这对于来自于transformers或fairseq等其他codebase的模型非常有用（这类模型通常通过静态方法初始化）。\n",
        "在该方法存在于类中时，Registry会调用该方法拉起模型，在该方法不存在时，Registry会调用构造方法初始化模型。\n",
        "\n",
        "Model类默认提供了一个_instantiate方法，该方法内部调用了模型的构造方法。\n",
        "\n",
        "\n",
        "与之配套的，您可能需要自定义或复用预处理器部分，有关这里的介绍请参考[预处理器文档](./数据的预处理.ipynb)。\n",
        "\n",
        "如果您自定义的模型是tensorflow或其他算法框架的，您需要继承Model类编写代码，ModelScope目前没有为tensorflow等框架提供特有基类。\n",
        "\n",
        "有关ModelScope提供的模型的详细介绍，您可以参考API文档中的[模型文档]()。\n"
      ]
    }
  ],
  "metadata": {
    "kernelspec": {
      "display_name": "Python 3",
      "language": "python",
      "name": "python3"
    },
    "language_info": {
      "codemirror_mode": {
        "name": "ipython",
        "version": 3
      },
      "file_extension": ".py",
      "mimetype": "text/x-python",
      "name": "python",
      "nbconvert_exporter": "python",
      "pygments_lexer": "ipython3",
      "version": "3.6.0"
    }
  },
  "nbformat": 4,
  "nbformat_minor": 0
}
