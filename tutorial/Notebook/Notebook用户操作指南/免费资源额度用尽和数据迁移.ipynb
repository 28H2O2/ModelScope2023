{
  "cells": [
    {
      "cell_type": "markdown",
      "metadata": {},
      "source": [
        "免费资源到期后，您可以选择在CPU环境开发、本地开发或在Notebook商业版内付费开发使用。本文将介绍免费资源额度用尽后应当如何操作。\n",
        "# 如何知道资源已用尽\n",
        "您可以在**个人控制台 \u003e 我的Notebook**内右上方资源倒计时区域，查看剩余的免费资源额度。图中剩余额度为16小时。\n",
        "![image.png](./resources/1659699539423-bf9b97f1-61b5-4eee-9dbc-7ab9dcec2ba3.png)\n",
        "若免费资源额度已用尽，您可以在**个人控制台 \u003e 我的Notebook**右上方获取提示，此时您将无法继续选择在GPU环境内继续开发。若您正在Notebook内进行文件编辑，资源用尽后将不支持任何代码执行操作，已编辑的文件需及时保存。\n",
        "![image.png](./resources/1659696442266-a6bfc0ff-1799-407f-b660-58521162d62a.png)\n",
        "# 免费资源用尽后的操作\n",
        "## 路径一：切换至CPU环境继续开发\n",
        "您需要返回**个人控制台 \u003e 我的Notebook**，重新启动CPU环境实例。在CPU环境中，您先前在GPU实例下创建的文件将被保存，您可以在CPU环境下打开文件继续开发。\n",
        "## 路径二：导出文件后在本地开发\n",
        "您可以参考文档 “读写数据与文件传输” 导出代码、数据集和模型文件，在本地IDE内继续开发，如Jupyter Notebook、PyCharm、VSCode等。\n",
        "## 路径三：前往Notebook商业版付费使用\n",
        "您可以在**个人控制台 \u003e 我的Notebook**内找到Notebook商业化版本入口，并购买实例付费使用。在正式使用Notebook商业版进行开发前，您可以先打开ModelScope Notebook创建CPU环境实例，导出已保存的代码、数据集和模型文件。\n",
        "\n",
        "![222.jpg](./resources/1659699443932-8dfa2bdd-bf4d-44b5-9857-f495d30e3e31.jpeg)\n",
        "关于付费版本的使用说明，您可参考文档 [交互式建模（PAI-DSW） - 机器学习PAI - 阿里云](https://help.aliyun.com/document_detail/65137.html)。\n",
        "在使用Notebook付费版本进行ModelScope相关模型任务开发前，您需要先安装ModelScope所需环境，详情参考文档“环境安装”。ModelScope Library目前支持tensorflow，pytorch深度学习框架进行模型训练、推理， 在Python 3.7+, Pytorch 1.8+, Tensorflow1.15，Tensorflow 2.x上测试可运行。\n"
      ]
    }
  ],
  "metadata": {
    "kernelspec": {
      "display_name": "Python 3",
      "language": "python",
      "name": "python3"
    },
    "language_info": {
      "codemirror_mode": {
        "name": "ipython",
        "version": 3
      },
      "file_extension": ".py",
      "mimetype": "text/x-python",
      "name": "python",
      "nbconvert_exporter": "python",
      "pygments_lexer": "ipython3",
      "version": "3.6.0"
    }
  },
  "nbformat": 4,
  "nbformat_minor": 0
}
