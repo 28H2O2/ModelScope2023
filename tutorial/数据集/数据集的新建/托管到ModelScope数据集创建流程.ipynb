{
  "cells": [
    {
      "cell_type": "markdown",
      "metadata": {},
      "source": [
        "### 1、创建数据集前需要先登陆。登陆以后。点击页面右上角的按钮，开始创建数据集：\n",
        "![image.png](./resources/1661239248900-30a8d949-8e7d-428a-a306-f10fe60c17fd.png)\n",
        "### 2、填入必要的数据集信息，数据集权限选择“公开数据集”，托管方式选择“托管到 ModelScope”\n",
        "![image.png](./resources/1661244615753-a9a3c40f-8fa6-4e5a-bec0-3d624dfbab8c.png)\n",
        "### 3、空白数据集创建完毕：\n",
        "![image.png](./resources/1661244668665-0c5d6fdf-c9bf-4e2e-bb47-017c94d2f74b.png)\n",
        "### 4、准备数据\n",
        "#### 4.1、数据文件（web端打成zip包，sdk端支持zip或者散装文件/文件夹）准备\n",
        "组织形式可随意。zip包是用来上传到“数据文件”tab下的\n",
        "#### 4.2、meta 文件\n",
        "目前支持的meta文件格式为csv，需要用逗号分隔来组织元数据，元数据用于描述**数据文件**的一些其他属性，标签等。meta文件统一是上传到“元数据文件”tab下。\n",
        "**首行**为header， 采用 逗号分隔， 每个字段 采用   {字段名}:{类型} 作为标识， 类型可选为Value/FILE，可缺省，\n",
        "默认文本（Value）, 字段名不允许有重复。\n",
        "**第二行开始**为具体的数据，依然采用逗号分隔，字段数和header保持一致，如果类型为FILE，则填写文件在zip包中的相对路径，如果不是zip包（而是一个文件夹或者散装文件），也可以填写相对数据文件根目录的相对路径。\n"
      ]
    },
    {
      "cell_type": "code",
      "metadata": {
        "editable": true
      },
      "source": [
        "Title,Description,InputVideo:FILE,Generated Video:FILE,Category\n",
        "男士衣服,宽松连体,train/input/0001.mp4,train/output/0001.mp4,1\n",
        "儿童玩具,五彩缤纷,train/input/0002.mp4,train/output/0002.mp4,2\n"
      ],
      "outputs": [
        {
          "name": "stdout",
          "output_type": "stream",
          "text": [
            "\n"
          ]
        }
      ],
      "execution_count": 1
    },
    {
      "cell_type": "markdown",
      "metadata": {},
      "source": [
        "注意：每个csv的字段数需要保持一致。utf-8编码格式保存。不同subset之间的字段数（schema）可以不同。\n",
        "### 5、数据上传\n",
        "准备好各个split的zip包和meta文件后，可以在网页中上传。\n",
        "meta上传，选择“元数据文件”-》“添加文件”\n",
        "![image.png](./resources/1661245291649-7543ee15-c240-49eb-937c-7faed540544e.png)\n",
        "zip包文件上传，选择“数据文件”-》“添加文件”\n",
        "![image.png](./resources/1661245396645-a7ff4118-5575-4d12-a3d9-bc9b6bf1b8f6.png)\n",
        "### 6、在datasetName.json中编写文件和split的对应关系，如果数据集有多个subset，也在此文件中编写对应关系\n",
        "这个文件在数据集初始化的时候，已经产生一个空的样板了，用户可以直接编辑，避免格式错误。\n",
        "![image.png](./resources/1661244869258-2a16f856-e578-4306-aae1-421740d179e9.png)\n",
        "\n",
        "![image.png](./resources/1661245608348-8e5bc92d-ce3b-42ed-a185-bb9246ae73d6.png)\n",
        "注：每个meta文件只能被选择一次，数据包可选填，可以留空。\n",
        "### 7、验证数据集，如能正常打印数据集内容则上传正确\n"
      ]
    },
    {
      "cell_type": "code",
      "metadata": {
        "editable": true
      },
      "source": [
        "from modelscope.msdatasets import MsDataset\n",
        "from modelscope.utils.constant import DownloadMode\n",
        "ms_ds_train = MsDataset.load(\n",
        "            数据集名称, namespace=账号名称, split=目标split, download_mode=DownloadMode.FORCE_REDOWNLOAD)\n",
        "print(next(iter(ms_ds_train)))\n"
      ],
      "outputs": [
        {
          "name": "stdout",
          "output_type": "stream",
          "text": [
            "\n"
          ]
        }
      ],
      "execution_count": 1
    },
    {
      "cell_type": "markdown",
      "metadata": {},
      "source": []
    }
  ],
  "metadata": {
    "kernelspec": {
      "display_name": "Python 3",
      "language": "python",
      "name": "python3"
    },
    "language_info": {
      "codemirror_mode": {
        "name": "ipython",
        "version": 3
      },
      "file_extension": ".py",
      "mimetype": "text/x-python",
      "name": "python",
      "nbconvert_exporter": "python",
      "pygments_lexer": "ipython3",
      "version": "3.6.0"
    }
  },
  "nbformat": 4,
  "nbformat_minor": 0
}
