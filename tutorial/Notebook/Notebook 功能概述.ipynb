{
  "cells": [
    {
      "cell_type": "markdown",
      "metadata": {},
      "source": [
        "ModelScope Notebook是一款云端机器学习开发IDE，为您提供交互式编程环境，适用于不同水平的开发者。\n",
        "Notebook基于PAI-DSW进行了深度定制，集成了开源JupyterLab，并以插件化的形式进行深度定制化开发。您无需任何运维配置，即可进行Notebook编写、调试及运行Python代码。同时，Notebook提供丰富的计算资源，且对接多种数据源，实现一站式机器学习。\n",
        "# 功能特性\n",
        "\n",
        "- 支持Notebook实时渲染，所见即所得。\n",
        "- 支持资源实时监控。算法开发时，可以显示CPU或GPU的使用情况。\n",
        "- 支持多源数据接入，包括NAS、ModelScope Datahub和本地上传。\n",
        "- 支持多种资源类型，包括纯CPU及多种GPU算力卡。\n",
        "- 预置ModelScope开发包及算法库，且支持自定义安装第三方库。\n",
        "\n",
        "关于原生Jupyter Notebook的官方功能介绍，请参考 [The Jupyter Notebook — Jupyter Notebook 6.4.12 documentation](https://jupyter-notebook.readthedocs.io/en/stable/notebook.html)。\n",
        "# 版本介绍\n",
        "| **功能** | **ModelScope版本** |\n",
        "| --- | --- |\n",
        "| 支持GPU | 是 |\n",
        "| CPU核数及内存 | 8核32G |\n",
        "| 实例存储空间限制 | 10G |\n",
        "| 网络访问 | 无限制 |\n",
        "| Root权限 | 默认root账号 |\n",
        "| 运行环境Image选择 | ubuntu18.04-cuda13.3.0-py37-torch1.12.0-tf1.15.5 |\n",
        "\n",
        "基于阿里云Docker和Kubernetes等云原生技术，为您提供灵活且开放的AI开发环境。该版本的功能特点、支持的资源类型、数据集配置、镜像配置如下：\n",
        "\n",
        "- 版本特点\n",
        "   - 支持实例随时停止和启动、镜像一键保存及开发环境恢复。\n",
        "   - 提供集成式AI开发环境：\n",
        "      - 预装常用大数据开发包和算法包，且开放Sudo权限，从而允许安装第三方库。\n",
        "      - 预装JupyterLab插件，可以提高开发效率。例如Git及TensorBoard。\n",
        "      - 提供ModelScope官方镜像，可以覆盖多版本主流计算框架。例如TensorFlow及PyTorch。\n",
        "   - 预置ModelScope的基础能力，包括模型推理Pipeline、模型训练、数据预处理、模型评估等。\n",
        "- 数据集配置\n",
        "   - DSW实例支持配置NAS类型数据集，实现数据持久化存储。\n",
        "- 镜像配置\n",
        "   - 安装了ModelScope基础依赖\n"
      ]
    }
  ],
  "metadata": {
    "kernelspec": {
      "display_name": "Python 3",
      "language": "python",
      "name": "python3"
    },
    "language_info": {
      "codemirror_mode": {
        "name": "ipython",
        "version": 3
      },
      "file_extension": ".py",
      "mimetype": "text/x-python",
      "name": "python",
      "nbconvert_exporter": "python",
      "pygments_lexer": "ipython3",
      "version": "3.6.0"
    }
  },
  "nbformat": 4,
  "nbformat_minor": 0
}
