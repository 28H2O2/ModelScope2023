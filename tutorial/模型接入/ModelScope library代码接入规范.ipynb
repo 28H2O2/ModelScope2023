{
  "cells": [
    {
      "cell_type": "markdown",
      "metadata": {},
      "source": [
        "## 代码接入简介\n",
        "### **代码有三方库依赖（比如cv任务以来easycv，ofa依赖fairseq）**\n",
        "modelscope支持贡献者快速接入通过依赖第三方库的方式接入sdk，部分代码需要有动态接入的机制：\n",
        "\n",
        "1. 代码库打包成whl包， 并在model_card requirement.txt中指定whl包链接， 使用模型时自动安装\n",
        "2. 代码库打成压缩包，使用模型时，动态下载压缩包加入python搜索路径下， 同时使用requirements.txt指定所依赖的第三方库\n",
        "### **代码无三方库依赖（只基于tf或者pytorch）**\n",
        "这种需要将模型实现，前处理，后处理等分别抽象成model，放在ModelScope代码库model相应的代码库里，实现模型定义类，同时完成个部分的注册。\n",
        "\n",
        "我们鼓励贡献者直接基于无第三方库的方式接入modelscope，目前modelscope的pipeline，model，preprocess已经在各个任务上有做大量抽象，可供算法同学复用。\n",
        "\n",
        "目前，所有代码\n",
        "## Model接入\n",
        "\n",
        "### \n"
      ]
    }
  ],
  "metadata": {
    "kernelspec": {
      "display_name": "Python 3",
      "language": "python",
      "name": "python3"
    },
    "language_info": {
      "codemirror_mode": {
        "name": "ipython",
        "version": 3
      },
      "file_extension": ".py",
      "mimetype": "text/x-python",
      "name": "python",
      "nbconvert_exporter": "python",
      "pygments_lexer": "ipython3",
      "version": "3.6.0"
    }
  },
  "nbformat": 4,
  "nbformat_minor": 0
}
