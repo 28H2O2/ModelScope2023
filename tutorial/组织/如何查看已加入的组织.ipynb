{
  "cells": [
    {
      "cell_type": "markdown",
      "metadata": {},
      "source": [
        "本文介绍如何查看已加入的组织，以及如何查看组织详情、组织创建的模型和数据集信息。\n",
        "# 入口\n",
        "登录后进入**个人控制台**，可在左侧导航栏下方找到已加入组织，点击后可查看组织详情。\n",
        "![image.png](./resources/1664174673929-7883aa7b-0654-4b7e-b576-2ba1e467e973.png)\n",
        "# 查看组织详情\n",
        "![image.png](./resources/1662450287931-e89f4e04-b078-43a7-902d-6ab226457572.png)\n",
        "\n",
        "| **功能区编号** | **描述** | **支持的功能** |\n",
        "| --- | --- | --- |\n",
        "| ① | 组织介绍栏 | \n",
        "- 成员管理及查看\n",
        "- 组织基础信息编辑\n",
        " |\n",
        "| ② | 组织空间详情 | \n",
        "- 查看组织创建的模型\n",
        "- 查看组织创建的数据集\n",
        " |\n",
        "\n",
        "\n"
      ]
    }
  ],
  "metadata": {
    "kernelspec": {
      "display_name": "Python 3",
      "language": "python",
      "name": "python3"
    },
    "language_info": {
      "codemirror_mode": {
        "name": "ipython",
        "version": 3
      },
      "file_extension": ".py",
      "mimetype": "text/x-python",
      "name": "python",
      "nbconvert_exporter": "python",
      "pygments_lexer": "ipython3",
      "version": "3.6.0"
    }
  },
  "nbformat": 4,
  "nbformat_minor": 0
}
