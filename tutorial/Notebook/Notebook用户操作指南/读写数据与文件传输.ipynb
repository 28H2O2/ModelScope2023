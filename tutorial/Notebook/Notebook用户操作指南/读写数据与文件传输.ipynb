{
  "cells": [
    {
      "cell_type": "markdown",
      "metadata": {},
      "source": [
        "您可以在Notebook实例的JupyterLab页面，上传或下载小数据量文件。本文为您介绍如何上传或下载数据文件。\n",
        "## 在JupyterLab页面上传下载数据文件\n",
        "\n",
        "1. 进入Notebook实例开发环境。\n",
        "2. 上传数据可按照下图操作指引：\n",
        "\n",
        "![image.png](./resources/1659693464416-107a7f18-1a68-4f82-8b7d-614e2a2da9db.png)\n",
        "\n",
        "3. 下载数据可按照下图操作指引：\n",
        "\n",
        "![image.png](./resources/1659693570932-ea5b12ca-a3d7-4614-aac1-223a99613112.png)\n",
        "# 导出Notebook文件\n",
        "您可以将Notebook文件导出为多种形式，以便本地查看或分享。\n",
        "## 背景信息\n",
        "ModelScope Notebook支持将Notebook文件导出为以下几种形式：\n",
        "\n",
        "- Asciidoc：**.asciidoc**文件\n",
        "- HTML：**.html**文件\n",
        "- Latex：**.tex**文件\n",
        "- Markdown：**.ipynb**文件\n",
        "- PDF：**.pdf**文件\n",
        "- ReStructured Text：**.rst**文件\n",
        "- Executable Script：**.py**文件\n",
        "- Reveal.js Slides：**.html**文件\n",
        "## 操作步骤\n",
        "\n",
        "1. 进入Notebook开发环境\n",
        "2. 打开待导出的Notebook文件。\n",
        "3. 在顶部菜单栏，选择**File \u003e Export Notebook As... \u003e 目标格式**，即可将该文件导出为所选的**目标格式**文件。\n",
        "\n",
        "![image.png](./resources/1659693029956-948c37cd-f821-4410-9b6b-ecb58e74cfa0.png)\n",
        "\n"
      ]
    }
  ],
  "metadata": {
    "kernelspec": {
      "display_name": "Python 3",
      "language": "python",
      "name": "python3"
    },
    "language_info": {
      "codemirror_mode": {
        "name": "ipython",
        "version": 3
      },
      "file_extension": ".py",
      "mimetype": "text/x-python",
      "name": "python",
      "nbconvert_exporter": "python",
      "pygments_lexer": "ipython3",
      "version": "3.6.0"
    }
  },
  "nbformat": 4,
  "nbformat_minor": 0
}
