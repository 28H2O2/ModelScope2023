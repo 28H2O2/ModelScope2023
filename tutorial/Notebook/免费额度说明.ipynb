{
  "cells": [
    {
      "cell_type": "markdown",
      "metadata": {},
      "source": [
        "ModelScope 平台将为每位用户提供一定的免费算力资源，供用户在Notebook内跑通模型训练、推理、评估等全流程。\n",
        "# 资源规格\n",
        "针对每位新用户，我们将提供以下免费算力资源：\n",
        "\n",
        "- CPU资源：8核32G，不限量免费使用\n",
        "- GPU资源：NVIDIA V100 16G，16小时免费额度\n",
        "# 使用限制\n",
        "以上免费算力资源，仅支持在Notebook内使用，实例单次运行最大时长不超过4小时。\n",
        "若免费额度已用尽或存在定制化资源需求，请前往[交互式建模（PAI-DSW） - 机器学习PAI - 阿里云](https://help.aliyun.com/document_detail/65137.html)购买Notebook商业版服务。\n",
        "后续ModelScope社区将推出更多活动，可免费获取GPU算力资源，敬请期待。\n",
        "\n",
        "\n"
      ]
    }
  ],
  "metadata": {
    "kernelspec": {
      "display_name": "Python 3",
      "language": "python",
      "name": "python3"
    },
    "language_info": {
      "codemirror_mode": {
        "name": "ipython",
        "version": 3
      },
      "file_extension": ".py",
      "mimetype": "text/x-python",
      "name": "python",
      "nbconvert_exporter": "python",
      "pygments_lexer": "ipython3",
      "version": "3.6.0"
    }
  },
  "nbformat": 4,
  "nbformat_minor": 0
}
