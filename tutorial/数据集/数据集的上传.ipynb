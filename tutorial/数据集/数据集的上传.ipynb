{
  "cells": [
    {
      "cell_type": "markdown",
      "metadata": {},
      "source": [
        "本篇文章介绍如何在ModelScope社区上传数据集。\n",
        "\n",
        "当数据集被创建以后，您可以多种方式将数据集的元数据文件和数据文件上传到ModelScope平台。\n",
        "\n",
        "#  使用Python SDK上传数据\n",
        "托管到ModelScope的数据集通常包含元数据文件和数据文件。您可以使用ModelScope msdataset模块提供的相关接口操作元数据文件和数据文件的上传。目前SDK端暂不支持通过公开HOST所托管数据集的上传操作。\n",
        "\n",
        "## 上传元数据文件\n",
        "在web端创建完成数据集后，系统会自动生成初始的元数据文件，您可以使用SDK将这些文件clone到本地，自行编辑后再上传到ModelScope。\n",
        "\u003e **登录认证**\n",
        "\n"
      ]
    },
    {
      "cell_type": "code",
      "metadata": {
        "editable": true
      },
      "source": [
        "from modelscope.hub.api import HubApi\n",
        "api = HubApi()\n",
        "api.login(YOUR_ACCESS_TOKEN)\n",
        "\n",
        "# 备注：YOUR_ACCESS_TOKEN需要登录modelscope.cn，进入 个人中心-\u003e访问令牌 页面获取，登录状态默认保持30天\n"
      ],
      "outputs": [
        {
          "name": "stdout",
          "output_type": "stream",
          "text": [
            "\n"
          ]
        }
      ],
      "execution_count": 1
    },
    {
      "cell_type": "markdown",
      "metadata": {},
      "source": [
        "\u003e **clone元数据到本地**\n",
        "\n"
      ]
    },
    {
      "cell_type": "code",
      "metadata": {
        "editable": true
      },
      "source": [
        "from modelscope.msdatasets import MsDataset\n",
        "MsDataset.clone_meta(dataset_work_dir='your-local-workdir', dataset_id='damotest/squad')\n",
        "\n",
        "# 备注： \n",
        "# 1. your-local-workdir 为您在本地所创建的工作目录，下同\n",
        "# 2. 参数dataset_id的组织形式为your-namespace/your-dataset-name，需确保您有相应工作空间和数据集的操作权限\n"
      ],
      "outputs": [
        {
          "name": "stdout",
          "output_type": "stream",
          "text": [
            "\n"
          ]
        }
      ],
      "execution_count": 1
    },
    {
      "cell_type": "markdown",
      "metadata": {},
      "source": [
        "\u003e **上传元数据文件**\n",
        "\n"
      ]
    },
    {
      "cell_type": "code",
      "metadata": {
        "editable": true
      },
      "source": [
        "MsDataset.upload_meta(dataset_work_dir='your-local-workdir', commit_message='This is my first commit msg.')\n",
        "\n"
      ],
      "outputs": [
        {
          "name": "stdout",
          "output_type": "stream",
          "text": [
            "\n"
          ]
        }
      ],
      "execution_count": 1
    },
    {
      "cell_type": "markdown",
      "metadata": {},
      "source": [
        "\n",
        "## 上传数据文件\n",
        "SDK支持超大文件(不超过48.8TB)上传，支持文件自动分片上传和断点续传。\n"
      ]
    },
    {
      "cell_type": "code",
      "metadata": {
        "editable": true
      },
      "source": [
        "MsDataset.upload(object_name='squad.zip', local_file_path='your-local-path/squad.zip', dataset_name='squad', namespace='damotest')\n",
        "\n",
        "#备注：需确保您有相应工作空间和数据集的操作权限\n"
      ],
      "outputs": [
        {
          "name": "stdout",
          "output_type": "stream",
          "text": [
            "\n"
          ]
        }
      ],
      "execution_count": 1
    },
    {
      "cell_type": "markdown",
      "metadata": {},
      "source": [
        "\n",
        "有关更多详细信息，请参阅MsDataset API的技术文档。\n",
        "\n",
        "\n",
        "#  使用页面上传数据\n",
        "对于托管在ModelScope的数据集，如果您是该数据集的创建者，或者有对应的权限，可以通过web端页面上传元数据文件和数据文件。\n",
        "![image.png](./resources/1664433021006-48226948-144b-4755-8989-172cab910c93.png)\n",
        "![image.png](./resources/1664433202433-61816907-0498-4889-9f9c-a7c045b7170a.png)\n",
        "\n"
      ]
    }
  ],
  "metadata": {
    "kernelspec": {
      "display_name": "Python 3",
      "language": "python",
      "name": "python3"
    },
    "language_info": {
      "codemirror_mode": {
        "name": "ipython",
        "version": 3
      },
      "file_extension": ".py",
      "mimetype": "text/x-python",
      "name": "python",
      "nbconvert_exporter": "python",
      "pygments_lexer": "ipython3",
      "version": "3.6.0"
    }
  },
  "nbformat": 4,
  "nbformat_minor": 0
}
