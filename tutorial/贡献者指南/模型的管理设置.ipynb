{
  "cells": [
    {
      "cell_type": "markdown",
      "metadata": {},
      "source": [
        "本篇文章介绍如何管理ModelScope社区的数据集。\n",
        "\n",
        "首先您只能对自己拥有或管理的数据集进行管理设置操作。当您创建了模型后，即可通过modelname来检索到您的模型，也可在【个人中心】-【我的空间】-【我的模型】找到您创建的模型。\n",
        "![image.png](./resources/1659697865037-42fa3797-0b6a-4cdb-b7b8-c3ee23d13e4e.png)\n",
        "点击模型卡片可对模型进行设置管理，点击“设置”页面，在这里您可以编辑模型的中文名称、所有者、模型描述，修改模型的开源许可证协议或数据集可见权限。\n",
        "![image.png](./resources/1659697924320-8958275b-998d-4205-916a-928e1cb23984.png)\n",
        "![image.png](./resources/1659450580568-256d9398-2660-4229-a12e-6b0566788287.png)\n",
        "您也可以在此页面删除模型。需要注意的是，若您需要删除模型，需要进行二次验证。且该删除操作不可撤销，模型库中的所有文件将被永久性删除，请谨慎操作！\n",
        "![image.png](./resources/1659450607260-76f072ec-0c6f-48d2-81bb-f95d1262de09.png)\n"
      ]
    }
  ],
  "metadata": {
    "kernelspec": {
      "display_name": "Python 3",
      "language": "python",
      "name": "python3"
    },
    "language_info": {
      "codemirror_mode": {
        "name": "ipython",
        "version": 3
      },
      "file_extension": ".py",
      "mimetype": "text/x-python",
      "name": "python",
      "nbconvert_exporter": "python",
      "pygments_lexer": "ipython3",
      "version": "3.6.0"
    }
  },
  "nbformat": 4,
  "nbformat_minor": 0
}
