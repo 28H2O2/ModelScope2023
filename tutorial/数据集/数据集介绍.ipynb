{
  "cells": [
    {
      "cell_type": "markdown",
      "metadata": {},
      "source": [
        "本篇文章向您整体介绍数据集（Dataset）以及数据集仓库（DatasetHub）相关概念及使用。\n",
        "\n",
        "数据集仓库（DatasetHub）用于集中管理数据，支持模型进行训练、预测等，使各类型数据具备易访问、易管理、易共享的特点。数据集支持文本、图像、音频、视频、多模态等多种类型的数据管理。您可以通过界面、SDK等方式，轻松地创建、管理和使用数据集。\n",
        "# 名词解释\n",
        "**数据集**：是方便共享及访问的数据集合，可用于算法训练、测试、验证，通常以表格形式出现。按照模态可划分为文本、图像、音频、视频、多模态等。\n",
        "# 使用数据集\n",
        "DatasetHub上的数据存储在公开地址，或者存储在ModelScope的数据仓库，数据集通过git实现版本管理。用户可以下载单个文件或数据相关所有文件。通过一个数据集名称和namespace，即可通过本地SDK从DatasetHub下载数据，以及加载使用。同时此ModelScope的SDK对于本地下载的数据文件会自动进行缓存管理。下次您需要相同文件时，它将从您的缓存中加载，无需重新下载。\n",
        "只需要知道数据集名称，namespace，子数据集名称（默认为default），以及希望使用的模型版本(默认为master，每个git tag对应一个数据集版本)，就可以通过一行代码，完成数据寻找，下载，以及加载的工作：\n"
      ]
    },
    {
      "cell_type": "code",
      "metadata": {
        "editable": true
      },
      "source": [
        "from modelscope.msdatasets import MsDataset\n",
        "ds_dict = MsDataset.load('squad', namespace='damotest')\n",
        "print(ds_dict['train'][0])\n"
      ],
      "outputs": [
        {
          "name": "stdout",
          "output_type": "stream",
          "text": [
            "\n"
          ]
        }
      ],
      "execution_count": 1
    },
    {
      "cell_type": "markdown",
      "metadata": {},
      "source": [
        "如果希望指定非默认版本，则可以使用：\n"
      ]
    },
    {
      "cell_type": "code",
      "metadata": {
        "editable": true
      },
      "source": [
        "from modelscope.msdatasets import MsDataset\n",
        "ds_dict = MsDataset.load('squad', namespace='damotest', version='1.0.0')\n",
        "print(ds_dict['train'][0])\n"
      ],
      "outputs": [
        {
          "name": "stdout",
          "output_type": "stream",
          "text": [
            "\n"
          ]
        }
      ],
      "execution_count": 1
    },
    {
      "cell_type": "markdown",
      "metadata": {},
      "source": [
        "如果希望指定某一个子数据集，则可以使用：\n",
        "```json\n",
        "from modelscope.msdatasets import MsDataset\n",
        "ds_dict = MsDataset.load('clue', subset_name='tnews')\n",
        "print(ds_dict['train'][0])\n",
        "```\n",
        "以上方法会将该数据集的所有划分都加载，如果只想加载指定划分也可以指定：\n"
      ]
    },
    {
      "cell_type": "code",
      "metadata": {
        "editable": true
      },
      "source": [
        "from modelscope.msdatasets import MsDataset\n",
        "ds = MsDataset.load('squad', namespace='damotest', split='train')\n",
        "print(ds[0])\n"
      ],
      "outputs": [
        {
          "name": "stdout",
          "output_type": "stream",
          "text": [
            "\n"
          ]
        }
      ],
      "execution_count": 1
    },
    {
      "cell_type": "markdown",
      "metadata": {},
      "source": [
        "# 创建数据集\n",
        "【使用前提】您需要拥有自己的ModelScope账号。\n",
        "\n",
        "- **如果是托管到公开Host的数据集，详见**[托管到公开Host数据集创建流程](./数据集的新建/托管到公开Host数据集创建流程.ipynb)。\n",
        "- **如果是托管到ModelScope的数据集，详见**[托管到ModelScope数据集创建流程](./数据集的新建/托管到ModelScope数据集创建流程.ipynb)。\n",
        "\n",
        "【注意事项】\n",
        "\n",
        "- 数据集英文名称，同一组织账号下唯一，且创建后不可更改；\n",
        "- 是否公开，用于设置数据集访问权限：\n",
        "   - 当选择公开数据集时，对所有用户均可见；\n",
        "   - 当选择非公开数据集时，仅对当前组织账号下可见；\n",
        "- 托管方式，是否由ModelScope存储数据：\n",
        "   - 当选择托管到公开Host时，表示使用其他平台进行托管数据，会自动生成同名数据访问文件（Python文件）；\n",
        "   - 当选择托管到ModelScope时，表示将数据托管到本平台，通过单独的数据文件标签进行数据文件维护，可以享受在线训练加速等特性；—— **强烈推荐此种方式**\n",
        "   - 托管方式在创建时指定，后续不可更改；\n",
        "- 数据集描述，是向其他使用者推广数据集的主要内容之一，如希望更多人使用您的数据集，就好好编辑描述内容吧；\n",
        "\n",
        "您可通过页面或者git命令的方式继续维护数据集，详见[数据集的下载](./数据集的下载.ipynb)。\n"
      ]
    }
  ],
  "metadata": {
    "kernelspec": {
      "display_name": "Python 3",
      "language": "python",
      "name": "python3"
    },
    "language_info": {
      "codemirror_mode": {
        "name": "ipython",
        "version": 3
      },
      "file_extension": ".py",
      "mimetype": "text/x-python",
      "name": "python",
      "nbconvert_exporter": "python",
      "pygments_lexer": "ipython3",
      "version": "3.6.0"
    }
  },
  "nbformat": 4,
  "nbformat_minor": 0
}
