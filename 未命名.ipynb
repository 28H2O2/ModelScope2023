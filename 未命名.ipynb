{
 "cells": [
  {
   "cell_type": "markdown",
   "id": "9f630eb6-01f7-443d-a974-1e8cb3260a23",
   "metadata": {},
   "source": [
    "## ChatGLM2"
   ]
  },
  {
   "cell_type": "code",
   "execution_count": null,
   "id": "3bc97cd3-7762-488d-9260-4565f65ffd06",
   "metadata": {
    "execution": {
     "iopub.execute_input": "2023-07-30T08:58:48.834263Z",
     "iopub.status.busy": "2023-07-30T08:58:48.833753Z"
    },
    "tags": []
   },
   "outputs": [
    {
     "name": "stderr",
     "output_type": "stream",
     "text": [
      "2023-07-30 16:58:50,526 - modelscope - INFO - PyTorch version 2.0.1+cu117 Found.\n",
      "2023-07-30 16:58:50,529 - modelscope - INFO - Loading ast index from /mnt/workspace/.cache/modelscope/ast_indexer\n",
      "2023-07-30 16:58:50,529 - modelscope - INFO - No valid ast index found from /mnt/workspace/.cache/modelscope/ast_indexer, generating ast index from prebuilt!\n",
      "2023-07-30 16:58:50,578 - modelscope - INFO - Loading done! Current index file version is 1.7.0, with md5 97a95dc2d7da943e1cea5484a79569dc and a total number of 861 components indexed\n",
      "2023-07-30 16:58:51,216 - modelscope - INFO - Use user-specified model revision: v1.0.6\n",
      "Downloading: 100%|██████████| 1.07k/1.07k [00:00<00:00, 137kB/s]\n",
      "Downloading: 100%|██████████| 199/199 [00:00<00:00, 27.6kB/s]\n",
      "Downloading: 100%|██████████| 2.30k/2.30k [00:00<00:00, 983kB/s]\n",
      "Downloading: 100%|██████████| 1.70G/1.70G [00:04<00:00, 441MB/s] \n",
      "Downloading: 100%|██████████| 1.83G/1.83G [00:04<00:00, 445MB/s] \n",
      "Downloading: 100%|██████████| 1.80G/1.80G [00:03<00:00, 484MB/s] \n",
      "Downloading: 100%|██████████| 1.69G/1.69G [00:04<00:00, 403MB/s] \n",
      "Downloading: 100%|██████████| 1.83G/1.83G [00:04<00:00, 428MB/s] \n",
      "Downloading: 100%|██████████| 1.80G/1.80G [00:07<00:00, 272MB/s] \n",
      "Downloading: 100%|██████████| 0.98G/0.98G [00:02<00:00, 420MB/s] \n",
      "Downloading: 100%|██████████| 20.0k/20.0k [00:00<00:00, 9.78MB/s]\n",
      "Downloading: 100%|██████████| 944/944 [00:00<00:00, 338kB/s]\n",
      "Downloading: 100%|██████████| 6.07k/6.07k [00:00<00:00, 1.86MB/s]\n",
      "Downloading: 100%|██████████| 995k/995k [00:00<00:00, 24.7MB/s]\n",
      "Downloading: 100%|██████████| 243/243 [00:00<00:00, 115kB/s]\n",
      "2023-07-30 16:59:37,568 - modelscope - INFO - initialize model from /mnt/workspace/.cache/modelscope/ZhipuAI/chatglm2-6b\n"
     ]
    },
    {
     "name": "stdout",
     "output_type": "stream",
     "text": [
      "[2023-07-30 16:59:39,939] [INFO] [real_accelerator.py:110:get_accelerator] Setting ds_accelerator to cuda (auto detect)\n",
      "WARNING:tensorflow:Deprecation warnings have been disabled. Set TF_ENABLE_DEPRECATION_WARNINGS=1 to re-enable them.\n"
     ]
    },
    {
     "name": "stderr",
     "output_type": "stream",
     "text": [
      "2023-07-30 16:59:40.937125: I tensorflow/stream_executor/platform/default/dso_loader.cc:49] Successfully opened dynamic library libcudart.so.11.0\n",
      "The model weights are not tied. Please use the `tie_weights` method before using the `infer_auto_device` function.\n"
     ]
    },
    {
     "data": {
      "application/vnd.jupyter.widget-view+json": {
       "model_id": "8874becfbd824234b1348c7365260e1c",
       "version_major": 2,
       "version_minor": 0
      },
      "text/plain": [
       "Loading checkpoint shards:   0%|          | 0/7 [00:00<?, ?it/s]"
      ]
     },
     "metadata": {},
     "output_type": "display_data"
    }
   ],
   "source": [
    "from modelscope.utils.constant import Tasks\n",
    "from modelscope import Model\n",
    "from modelscope.pipelines import pipeline\n",
    "model = Model.from_pretrained('ZhipuAI/chatglm2-6b', device_map='auto', revision='v1.0.6')\n",
    "pipe = pipeline(task=Tasks.chat, model=model)\n",
    "inputs = {'text':'你好', 'history': []}\n",
    "result = pipe(inputs)\n",
    "inputs = {'text':'介绍下江南大学', 'history': result['history']}\n",
    "result = pipe(inputs)\n",
    "print(result)"
   ]
  }
 ],
 "metadata": {
  "kernelspec": {
   "display_name": "Python 3 (ipykernel)",
   "language": "python",
   "name": "python3"
  },
  "language_info": {
   "codemirror_mode": {
    "name": "ipython",
    "version": 3
   },
   "file_extension": ".py",
   "mimetype": "text/x-python",
   "name": "python",
   "nbconvert_exporter": "python",
   "pygments_lexer": "ipython3",
   "version": "3.8.16"
  }
 },
 "nbformat": 4,
 "nbformat_minor": 5
}
