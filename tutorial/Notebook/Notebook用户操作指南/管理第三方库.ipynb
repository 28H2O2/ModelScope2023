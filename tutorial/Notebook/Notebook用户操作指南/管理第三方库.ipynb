{
  "cells": [
    {
      "cell_type": "markdown",
      "metadata": {},
      "source": [
        "如果您想使用Python开发环境，可以实例的Terminal中，直接安装、查看、卸载第三方库。本文为您介绍如何管理第三方库。\n",
        "# 安装第三方库\n",
        "ModelScope Notebook提供的开发环境包括Python3.7、Pytorch 1.11.0及TensorFlow1.15.5。安装第三方库时，默认安装至Python3。\n",
        "# 查看第三方库\n",
        "使用以下命令查看已安装的第三方库。\n",
        "```shell\n",
        "pip list\n",
        "```\n",
        "# 卸载第三方库\n",
        "```shell\n",
        "pip uninstall \u003cyourLibraryName\u003e\n",
        "```\n",
        "需要将\u003cyourLibraryName\u003e替换为已安装的第三方库名称，只能卸载自己安装的第三方库。\n",
        "# 更新第三方库\n",
        "一些第三方库不支持卸载，比如**tensoflow-gpu**，只能使用更新命令安装固定版本的**tensoflow-gpu**，且新版本必须与CUDA版本兼容。您可以使用以下命令更新已安装的第三方库。\n",
        "```shell\n",
        "pip install --upgrade --user tensorflow-gpu=\u003cversionNumber\u003e\n",
        "```\n",
        "需要将\u003cversionNumber\u003e替换为待安装的tensoflow-gpu版本号。过程中请不要升级系统pip，否则可能导致无法安装。\n"
      ]
    }
  ],
  "metadata": {
    "kernelspec": {
      "display_name": "Python 3",
      "language": "python",
      "name": "python3"
    },
    "language_info": {
      "codemirror_mode": {
        "name": "ipython",
        "version": 3
      },
      "file_extension": ".py",
      "mimetype": "text/x-python",
      "name": "python",
      "nbconvert_exporter": "python",
      "pygments_lexer": "ipython3",
      "version": "3.6.0"
    }
  },
  "nbformat": 4,
  "nbformat_minor": 0
}
