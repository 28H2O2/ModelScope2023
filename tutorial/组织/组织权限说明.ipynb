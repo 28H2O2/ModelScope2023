{
  "cells": [
    {
      "cell_type": "markdown",
      "metadata": {},
      "source": [
        "本篇文章介绍不同组织角色对应的操作权限。\n",
        "# 组织权限清单\n",
        "| 模块 | 功能描述 | 组织管理员 | 组织成员 |\n",
        "| --- | --- | --- | --- |\n",
        "| 模型 | 组织模型CRUD | √ | √ |\n",
        "| 数据集 | 组织数据集CRUD | √ | √ |\n",
        "| SPACE | 组织SPACE 创建 | √ |  |\n",
        "|  | SPACE 内容更新 | √ | √ |\n",
        "| 管理 | 组织的创建 | √ |  |\n",
        "|  | 对组织成员进行增删和授权 | √ |  |\n",
        "\n",
        "# 组织权限细化说明\n",
        "## admin权限\n",
        "admin为该repo的管理员。\n",
        "\n",
        "- 管理员可以添加新的member，并赋予member以admin、write、read权限。admin也可以设置自己的权限为write或read。\n",
        "- 管理员可以创建新的模型。\n",
        "- 管理员可以搜索到该org 下所有模型，不论该模型是否为private。\n",
        "- 管理员可以编辑该org下所有模型的文件、且有merge权限。\n",
        "- 管理员可以修改该repo的设置信息。\n",
        "- **管理员可以删除repo。**\n",
        "\n",
        "## member权限\n",
        "member权限分为write（编辑）和read（只读）。\n",
        "### write权限（即编辑权限）\n",
        "\n",
        "- 可以搜索到该org下所有模型，不论该模型是否为private。\n",
        "- 可以创建新的模型。\n",
        "- 可以编辑该org下所有模型repo的文件、且有merge权限。\n",
        "- 可以编辑模型的设置信息。\n",
        "- **不可以修改模型repo的可见权限。（仅admin才可以修改）**\n",
        "- **不可以删除repo。（仅admin才可以删除，模型的owner无法删除）**\n",
        "### read权限（即只读权限）\n",
        "\n",
        "- 可以搜索到该repo下所有模型，不论该模型是否为private。可以编辑文件并提交PR，无merge权限。\n",
        "- 不修改设置内容。\n",
        "- 不可以删除模型。\n"
      ]
    }
  ],
  "metadata": {
    "kernelspec": {
      "display_name": "Python 3",
      "language": "python",
      "name": "python3"
    },
    "language_info": {
      "codemirror_mode": {
        "name": "ipython",
        "version": 3
      },
      "file_extension": ".py",
      "mimetype": "text/x-python",
      "name": "python",
      "nbconvert_exporter": "python",
      "pygments_lexer": "ipython3",
      "version": "3.6.0"
    }
  },
  "nbformat": 4,
  "nbformat_minor": 0
}
