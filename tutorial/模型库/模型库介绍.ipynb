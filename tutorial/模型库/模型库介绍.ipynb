{
  "cells": [
    {
      "cell_type": "markdown",
      "metadata": {},
      "source": [
        "本篇文章介绍ModelScope模型库的产品功能、快速使用指南等。\n",
        "# 关于ModelScope的模型库\n",
        "ModelScope的模型库（Model Hub）是共享机器学习模型、demo演示、数据集和数据指标的地方。您可以轻松地创建和管理自己的模型库，利用界面或开发环境来便捷地上传、下载相关模型文件，并从 Model Hub中获取有用的模型和数据集元数据。\n",
        "## 名词解释\n",
        "**模型**：是指一个具体的模型实例，包括模型网络结构和相应参数。ModelScope平台提供丰富的模型信息供用户体验与使用。\n",
        "**模型库**：是指对模型进行存储、版本管理和相关操作的模型服务，用户上传和共享的模型将存储至ModelScope的模型库中，同时用户也可在Model hub中创建属于自己的模型存储库，并沿用平台提供的模型库管理功能进行模型管理。\n",
        "## 从模型库中下载并使用模型\n",
        "Model Hub 上的模型后端通过git存储并实现版本管理。用户可以下载单个文件或模型相关所有文件。通过一个模型id，即可通过本地SDK从ModelHub下载模型，以及加载使用。同时此ModelScope的SDK对于本地下载的模型文件会自动进行缓存管理。下次您需要相同文件时，它将从您的缓存中加载，无需重新下载。\n",
        "只需要知道模型id，以及希望使用的模型版本(默认为master)，就可以通过一行代码，完成模型寻找，下载，以及加载的工作：\n"
      ]
    },
    {
      "cell_type": "code",
      "metadata": {
        "editable": true
      },
      "source": [
        "from modelscope.models import Model\n",
        "\n",
        "model = Model.from_pretrained(self.model_id)\n"
      ],
      "outputs": [
        {
          "name": "stdout",
          "output_type": "stream",
          "text": [
            "\n"
          ]
        }
      ],
      "execution_count": 1
    },
    {
      "cell_type": "markdown",
      "metadata": {},
      "source": [
        "如果希望指定非默认版本，则可以使用：\n"
      ]
    },
    {
      "cell_type": "code",
      "metadata": {
        "editable": true
      },
      "source": [
        "from modelscope.models import Model\n",
        "\n",
        "model = Model.from_pretrained(self.model_id, revision='version1.0')\n"
      ],
      "outputs": [
        {
          "name": "stdout",
          "output_type": "stream",
          "text": [
            "\n"
          ]
        }
      ],
      "execution_count": 1
    },
    {
      "cell_type": "markdown",
      "metadata": {},
      "source": [
        "\n",
        "除此之外，如果只是希望下载模型到本地，我们还提供了更加底层的API接口snapshot_download() 。通过这个接口可以直接下载模型，并且可指定下载模型的地址。\n"
      ]
    },
    {
      "cell_type": "code",
      "metadata": {
        "editable": true
      },
      "source": [
        "from modelscope.hub.snapshot_download import snapshot_download\n",
        "\n",
        "model_dir = snapshot_download(self.model_id, cache_dir='path/to/local/dir')\n"
      ],
      "outputs": [
        {
          "name": "stdout",
          "output_type": "stream",
          "text": [
            "\n"
          ]
        }
      ],
      "execution_count": 1
    },
    {
      "cell_type": "markdown",
      "metadata": {},
      "source": [
        "有关更多详细信息，请参阅Model.from_pretrained()以及snapshot_download() API的技术文档。\n",
        "## 创建自己的模型库\n",
        "要创建文件并共享至ModelScope社区，您需要拥有ModelScope账号。如果您还没有账号，请注册一个新账号以用于向Model hub验证您的身份。\n",
        "\n",
        "![image.png](./resources/1659445755570-8b5a9a31-5c31-4aa6-afd1-57269146d2f9.png)\n",
        "\n",
        "您可以使用两种方式创建模型库。\n",
        "\n",
        "1. **使用ModelScope的web页面，通过填写基础信息添加模型。**\n",
        "\n",
        "注册登录后，在头像左侧会出现创建按钮，点击可创建模型或数据集。点击创建模型，进入模型页面填写基础信息实现模型库的创建。\n",
        "\n",
        "![image.png](./resources/1659696762353-aa90ab95-5938-44c3-887e-78d7cfc5467c.png)\n",
        "\n",
        "使用此种添加方式，分为两个步骤：\n",
        "1）填写基础信息。基础信息包括您的模型英文名称、中文名、所有者、许可证类型、是否公开和模型描述。\n",
        "\n",
        "- 许可证类型决定您的模型遵循对应的开源协议。\n",
        "- 是否公开决定您的模型是否能被其他用户检索查看，若设置为非公开模型，则其他用户无法查看，仅您自己查看。您也可以创建后在设置页面进行权限的修改配置。\n",
        "- 模型描述建议介绍您的模型的特性和应用场景，将展现在模型列表页方便用户搜索查询。\n",
        "\n",
        "![image.png](./resources/1659446858368-87839527-4ebd-4062-b2f4-0c4dd835cda6.png)\n",
        "\n",
        "2）上传README文档。若您已有README文档，可直接在此处上传。若您没有README文档，系统将为您自动创建一个README文档。\n",
        "为了让模型介绍更容易被理解和检索，我们推荐您按照模型卡片规范进行书写，具体可查看[如何写好用的模型卡片](../贡献者指南/如何撰写好用的模型卡片.ipynb)。\n",
        "\n",
        "![image.png](./resources/1659447304275-027198bb-ca6e-4b66-8f20-7b0f26aaa4bb.png)\n",
        "\n",
        "点击创建模型，系统将根据您上传的README.ipynb文件进行解析，并展示在模型介绍页面。\n",
        "\n",
        "![image.png](./resources/1659696828559-abaf8708-b763-4c07-bc09-ffccd4c8d825.png)\n",
        "\n",
        "右侧的demo根据task进行支持，当前支持的task类型将逐步开放，若您在readme中按照要求填写task和demo的示例代码等信息，系统将自动渲染出来。\n",
        "\n",
        "若您没有README文档，可在模型文件中找到README.ipynb并点击编辑进行在线编辑。\n",
        "\n",
        "![image.png](./resources/1659447412471-cd1049c7-c796-4cfc-ad83-0e392d9cc153.png)\n",
        "\n",
        "模型卡片的编辑分为yaml部分和markdown部分，其中系统通过解析yaml文档来解析对应的字段和模型标签。\n",
        "\n",
        "![image.png](./resources/1659447515576-7ccbc093-0857-42d7-b0c7-8491845b1a39.png)\n",
        "\n",
        "Markdown部分，我们推荐按照如下模板来写，将有利于您的模型可读性，便于用户的理解。\n",
        "\n",
        "![image.png](./resources/1659447804241-77b79331-2fae-4388-a34c-22da880215f5.png)\n",
        "\n",
        "完成创建后，平台将为您分配一个存储地址，如下：\n",
        "![image.png](./resources/1659447862505-5c704ffa-4a90-469a-aedd-e3c1a8fcb52f.png)\n",
        "您可通过页面或者git的方式将文件添加至该模型库中，也可通过页面上传相关的模型文件。\n",
        "\n",
        "2. **使用python SDK的方式添加模型。**\n",
        "\n",
        "请参考[环境安装](../快速入门/环境安装.ipynb)，安装ModelScope Library。\n",
        "#### 2.1 登录\n",
        "\u003e 注：你只需要登录一次，登录态会保持30天 \n",
        "\n"
      ]
    },
    {
      "cell_type": "code",
      "metadata": {
        "editable": true
      },
      "source": [
        "from modelscope.hub.api import HubApi\n",
        "\n",
        "api = HubApi()\n",
        "api.login(YOUR_ACCESS_TOKEN)\n"
      ],
      "outputs": [
        {
          "name": "stdout",
          "output_type": "stream",
          "text": [
            "\n"
          ]
        }
      ],
      "execution_count": 1
    },
    {
      "cell_type": "markdown",
      "metadata": {},
      "source": [
        "[\n",
        "](https://code.alibaba-inc.com/Ali-MaaS/MaaS-lib/blob/master/tests/hub/test_hub_examples.py)\n",
        "其中ACCESS_TOKEN可以通过用账号密码登录网站, 前往【个人中心】-\u003e【访问令牌】获取\n",
        "\n",
        "![image.png](./resources/1659853787580-b5d0106e-b34d-4141-8a0f-d9d993dc0b20.png)\n",
        "#### 2.2 创建模型\n"
      ]
    },
    {
      "cell_type": "code",
      "metadata": {
        "editable": true
      },
      "source": [
        "api.create_model(\n",
        "    model_id=\"damo/cv_unet_image-matting_damo\",\n",
        "    visibility=ModelVisibility.PUBLIC,\n",
        "    license=Licenses.APACHE_V2,\n",
        "    chinese_name=\"这是我的第一个模型\",\n",
        ")\n"
      ],
      "outputs": [
        {
          "name": "stdout",
          "output_type": "stream",
          "text": [
            "\n"
          ]
        }
      ],
      "execution_count": 1
    },
    {
      "cell_type": "markdown",
      "metadata": {},
      "source": [
        "以上例子中，创建出模型的完整模型id为\"damo/cv_unet_image-matting_damo\"，可以在Model/Pipeline种使用。\n",
        "\n",
        "Tips：好的模型介绍文档能够帮助社区用户更好地了解您的模型，也能使得您的模型更容易被检索和发现！我们强烈推荐您按照模型卡片规范撰写您的模型介绍文档。具体范例可参阅[模型卡片规范](./模型卡片.ipynb)。\n",
        "## 将文件共享至模型库\n",
        "同理，您可使用两种方法进行模型文件的添加：\n",
        "\n",
        "1. **使用ModelScope的web页面，上传相关模型文件。**\n",
        "\n",
        "![image.png](./resources/1655885832576-365872be-101c-404b-8a25-c65a1483f1c0.png)\n",
        "\n",
        "2. **使用git或python SDK的方式添加模型文件。**\n",
        "\n",
        "除了页面上传，您还可以通过git命令或者python SDK方式添加文件，详情请见[模型文件的上传](../贡献者指南/模型的创建与文件上传.ipynb)\n",
        "# ModelScope社区的模型\n",
        "ModelScope是一个开源开放的AI社区平台，我们支持和鼓励更多优质的模型加入到ModelScope社区。作为ModelScope社区的发起方和贡献者之一，达摩院率先贡献了众多高质量的SOTA模型，同时我们也陆续有更多的合作伙伴加入其中，社区部分模型持续更新中。若您有模型想要分享交流，也欢迎使用社区进行模型发布，若有更进一步的合作意向，欢迎[联系我们](../联系我们/联系我们.ipynb)！\n",
        "# Modelhub Python SDK的使用\n",
        "ModelScope的模型库为用户提供了Python的更简单的交互方式。要了解有关Modelhub更多关于管理和存储的信息，建议参阅如下操作指南：\n",
        "\n",
        "- [创建和管理模型库](../贡献者指南/模型的创建与文件上传.ipynb)\n",
        "- [从Modelhub下载文件](./模型的下载.ipynb)\n",
        "- [模型的推理](../ModelScope%20Library教程/模型的推理Pipeline.ipynb)\n",
        "\n",
        "\n",
        "\n",
        "\n",
        "\n"
      ]
    }
  ],
  "metadata": {
    "kernelspec": {
      "display_name": "Python 3",
      "language": "python",
      "name": "python3"
    },
    "language_info": {
      "codemirror_mode": {
        "name": "ipython",
        "version": 3
      },
      "file_extension": ".py",
      "mimetype": "text/x-python",
      "name": "python",
      "nbconvert_exporter": "python",
      "pygments_lexer": "ipython3",
      "version": "3.6.0"
    }
  },
  "nbformat": 4,
  "nbformat_minor": 0
}
