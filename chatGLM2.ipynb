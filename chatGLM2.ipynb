{
 "cells": [
  {
   "cell_type": "markdown",
   "id": "9f630eb6-01f7-443d-a974-1e8cb3260a23",
   "metadata": {},
   "source": [
    "## ChatGLM2"
   ]
  },
  {
   "cell_type": "code",
   "execution_count": 1,
   "id": "3bc97cd3-7762-488d-9260-4565f65ffd06",
   "metadata": {
    "execution": {
     "iopub.execute_input": "2023-07-30T08:58:48.834263Z",
     "iopub.status.busy": "2023-07-30T08:58:48.833753Z",
     "iopub.status.idle": "2023-07-30T09:00:39.220456Z",
     "shell.execute_reply": "2023-07-30T09:00:39.219808Z",
     "shell.execute_reply.started": "2023-07-30T08:58:48.834239Z"
    },
    "tags": []
   },
   "outputs": [
    {
     "name": "stderr",
     "output_type": "stream",
     "text": [
      "2023-07-30 16:58:50,526 - modelscope - INFO - PyTorch version 2.0.1+cu117 Found.\n",
      "2023-07-30 16:58:50,529 - modelscope - INFO - Loading ast index from /mnt/workspace/.cache/modelscope/ast_indexer\n",
      "2023-07-30 16:58:50,529 - modelscope - INFO - No valid ast index found from /mnt/workspace/.cache/modelscope/ast_indexer, generating ast index from prebuilt!\n",
      "2023-07-30 16:58:50,578 - modelscope - INFO - Loading done! Current index file version is 1.7.0, with md5 97a95dc2d7da943e1cea5484a79569dc and a total number of 861 components indexed\n",
      "2023-07-30 16:58:51,216 - modelscope - INFO - Use user-specified model revision: v1.0.6\n",
      "Downloading: 100%|██████████| 1.07k/1.07k [00:00<00:00, 137kB/s]\n",
      "Downloading: 100%|██████████| 199/199 [00:00<00:00, 27.6kB/s]\n",
      "Downloading: 100%|██████████| 2.30k/2.30k [00:00<00:00, 983kB/s]\n",
      "Downloading: 100%|██████████| 1.70G/1.70G [00:04<00:00, 441MB/s] \n",
      "Downloading: 100%|██████████| 1.83G/1.83G [00:04<00:00, 445MB/s] \n",
      "Downloading: 100%|██████████| 1.80G/1.80G [00:03<00:00, 484MB/s] \n",
      "Downloading: 100%|██████████| 1.69G/1.69G [00:04<00:00, 403MB/s] \n",
      "Downloading: 100%|██████████| 1.83G/1.83G [00:04<00:00, 428MB/s] \n",
      "Downloading: 100%|██████████| 1.80G/1.80G [00:07<00:00, 272MB/s] \n",
      "Downloading: 100%|██████████| 0.98G/0.98G [00:02<00:00, 420MB/s] \n",
      "Downloading: 100%|██████████| 20.0k/20.0k [00:00<00:00, 9.78MB/s]\n",
      "Downloading: 100%|██████████| 944/944 [00:00<00:00, 338kB/s]\n",
      "Downloading: 100%|██████████| 6.07k/6.07k [00:00<00:00, 1.86MB/s]\n",
      "Downloading: 100%|██████████| 995k/995k [00:00<00:00, 24.7MB/s]\n",
      "Downloading: 100%|██████████| 243/243 [00:00<00:00, 115kB/s]\n",
      "2023-07-30 16:59:37,568 - modelscope - INFO - initialize model from /mnt/workspace/.cache/modelscope/ZhipuAI/chatglm2-6b\n"
     ]
    },
    {
     "name": "stdout",
     "output_type": "stream",
     "text": [
      "[2023-07-30 16:59:39,939] [INFO] [real_accelerator.py:110:get_accelerator] Setting ds_accelerator to cuda (auto detect)\n",
      "WARNING:tensorflow:Deprecation warnings have been disabled. Set TF_ENABLE_DEPRECATION_WARNINGS=1 to re-enable them.\n"
     ]
    },
    {
     "name": "stderr",
     "output_type": "stream",
     "text": [
      "2023-07-30 16:59:40.937125: I tensorflow/stream_executor/platform/default/dso_loader.cc:49] Successfully opened dynamic library libcudart.so.11.0\n",
      "The model weights are not tied. Please use the `tie_weights` method before using the `infer_auto_device` function.\n"
     ]
    },
    {
     "data": {
      "application/vnd.jupyter.widget-view+json": {
       "model_id": "8874becfbd824234b1348c7365260e1c",
       "version_major": 2,
       "version_minor": 0
      },
      "text/plain": [
       "Loading checkpoint shards:   0%|          | 0/7 [00:00<?, ?it/s]"
      ]
     },
     "metadata": {},
     "output_type": "display_data"
    },
    {
     "name": "stderr",
     "output_type": "stream",
     "text": [
      "The tokenizer class you load from this checkpoint is not the same type as the class this function is called from. It may result in unexpected tokenization. \n",
      "The tokenizer class you load from this checkpoint is 'ChatGLMTokenizer'. \n",
      "The class this function is called from is 'ChatGLM2Tokenizer'.\n",
      "2023-07-30 17:00:25,130 - modelscope - WARNING - No preprocessor field found in cfg.\n",
      "2023-07-30 17:00:25,131 - modelscope - WARNING - No val key and type key found in preprocessor domain of configuration.json file.\n",
      "2023-07-30 17:00:25,131 - modelscope - WARNING - Cannot find available config to build preprocessor at mode inference, current config: {'model_dir': '/mnt/workspace/.cache/modelscope/ZhipuAI/chatglm2-6b'}. trying to build by task and model information.\n",
      "2023-07-30 17:00:25,132 - modelscope - WARNING - No preprocessor key ('chatglm2-6b', 'chat') found in PREPROCESSOR_MAP, skip building preprocessor.\n",
      "Setting `pad_token_id` to `eos_token_id`:2 for open-end generation.\n",
      "Setting `pad_token_id` to `eos_token_id`:2 for open-end generation.\n"
     ]
    },
    {
     "name": "stdout",
     "output_type": "stream",
     "text": [
      "{'response': '江南大学是中国江苏省的一所重点综合性大学，位于江苏省无锡市。学校成立于1958年，原名无锡市业余大学，后更名为江南大学。江南大学是一所以工为主、多学科发展、民族教育特色鲜明的综合性大学，也是“211工程”、“985工程”重点支持高校。\\n\\n江南大学设有17个学院，包括：食品科学与工程学院、化学与材料工程学院、机械工程学院、信息与电气工程学院、计算机科学与技术学院、纺织与服装学院、生物工程学院、环境与化学工程学院、艺术与设计学院、农学院、园艺与植物保护学院、医学院、经济管理学院、法学院、马克思主义学院、教育科学学院、体育科学学院、美育与艺术教育中心。\\n\\n江南大学拥有一流的师资力量，现有教职工2500余人，其中教授、副教授800余人。江南大学还与国内外众多著名高校和研究机构建立了紧密的合作关系，为学生提供了广阔的交流和合作机会。\\n\\n江南大学在科研方面取得了显著的成果，设有国家重点实验室和教育部重点实验室，为学生提供了良好的科研资源和平台。江南大学的教育教学质量、毕业生就业率以及社会评价等均名列江苏省高校前列。\\n\\n江南大学秉承“质量、速度、效益”的校训，努力提高学术研究水平，推动学校内涵发展，努力为国家和地方经济社会发展做出更大的贡献。', 'history': [('介绍下江南大学', '江南大学是中国江苏省的一所重点综合性大学，位于江苏省无锡市。学校成立于1958年，原名无锡市业余大学，后更名为江南大学。江南大学是一所以工为主、多学科发展、民族教育特色鲜明的综合性大学，也是“211工程”、“985工程”重点支持高校。\\n\\n江南大学设有17个学院，包括：食品科学与工程学院、化学与材料工程学院、机械工程学院、信息与电气工程学院、计算机科学与技术学院、纺织与服装学院、生物工程学院、环境与化学工程学院、艺术与设计学院、农学院、园艺与植物保护学院、医学院、经济管理学院、法学院、马克思主义学院、教育科学学院、体育科学学院、美育与艺术教育中心。\\n\\n江南大学拥有一流的师资力量，现有教职工2500余人，其中教授、副教授800余人。江南大学还与国内外众多著名高校和研究机构建立了紧密的合作关系，为学生提供了广阔的交流和合作机会。\\n\\n江南大学在科研方面取得了显著的成果，设有国家重点实验室和教育部重点实验室，为学生提供了良好的科研资源和平台。江南大学的教育教学质量、毕业生就业率以及社会评价等均名列江苏省高校前列。\\n\\n江南大学秉承“质量、速度、效益”的校训，努力提高学术研究水平，推动学校内涵发展，努力为国家和地方经济社会发展做出更大的贡献。')]}\n"
     ]
    }
   ],
   "source": [
    "from modelscope.utils.constant import Tasks\n",
    "from modelscope import Model\n",
    "from modelscope.pipelines import pipeline\n",
    "model = Model.from_pretrained('ZhipuAI/chatglm2-6b', device_map='auto', revision='v1.0.6')\n",
    "pipe = pipeline(task=Tasks.chat, model=model)\n",
    "inputs = {'text':'你好', 'history': []}\n",
    "result = pipe(inputs)\n",
    "inputs = {'text':'介绍下江南大学', 'history': result['history']}\n",
    "result = pipe(inputs)\n",
    "print(result)"
   ]
  }
 ],
 "metadata": {
  "kernelspec": {
   "display_name": "Python 3 (ipykernel)",
   "language": "python",
   "name": "python3"
  },
  "language_info": {
   "codemirror_mode": {
    "name": "ipython",
    "version": 3
   },
   "file_extension": ".py",
   "mimetype": "text/x-python",
   "name": "python",
   "nbconvert_exporter": "python",
   "pygments_lexer": "ipython3",
   "version": "3.8.16"
  }
 },
 "nbformat": 4,
 "nbformat_minor": 5
}
