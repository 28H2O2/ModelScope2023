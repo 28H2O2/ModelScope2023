{
  "cells": [
    {
      "cell_type": "markdown",
      "metadata": {},
      "source": [
        "本篇文章介绍ModelScope Library的产品功能、快速使用指南等。\n",
        "# 什么是ModelScope Library？\n",
        "为了使ModelScope的用户能够快速、方便的使用平台提供的各类模型，我们提供了一套功能完备的Python library，其中包含了ModelScope官方模型的实现，以及使用这些模型进行推理，finetune等任务所需的数据预处理，后处理，效果评估等功能相关的代码，同时也提供了简单易用的API，以及丰富的使用样例。通过调用library，用户可以只写短短的几行代码，就可以完成模型的推理、训练和评估等任务，也可以在此基础上快速进行二次开发，实现自己的创新想法。\n",
        "\n",
        "目前library提供的算法模型，涵盖了图像，自然语言处理，语音，多模态4个主要的AI领域，数十个应用场景任务，具体任务可参考文档：[任务的介绍](./任务的介绍.ipynb)。\n",
        "## 深度学习框架\n",
        "ModelScope Library当前支持的深度学习框架包括Pytorch和Tensorflow，后续将持续更新拓展，敬请期待！\n",
        "当前的官方模型均支持使用ModelScope Library进行模型推理，部分支持使用该库进行训练和评估，具体可参看相应模型的模型卡片，了解完整使用信息。\n",
        "# Library提供的常用方法\n",
        "## 模型推理\n",
        "\n",
        "- pipeline(): 创建特定任务的推理流程。支持指定模型，相关数据预处理，后处理，完成单个样本/批量推理，批量推理需指定数据集。具体请参阅[模型的推理](./模型的推理Pipeline.ipynb)教程。\n",
        "## 模型训练\n",
        "\n",
        "- train(): 调用训练接口启动训练任务(通常是finetune)。支持指定模型，数据集，预处理方法，使用默认或者自行构建training loop。具体参阅[模型的训练](./模型的训练Train.ipynb)教程。\n",
        "## 模型评估\n",
        "\n",
        "- evaluate(): 独立的评估功能，可在训练任务完成以后独立调用，方便快速跑benchmark。具体参阅[模型的评估教程](./模型的评估.ipynb)。\n",
        "# 快速开始\n",
        "\n",
        "- [安装ModelScope Library](../快速入门/环境安装.ipynb)\n",
        "- [使用pipeline快速实现模型推理](./模型的推理Pipeline.ipynb)\n"
      ]
    }
  ],
  "metadata": {
    "kernelspec": {
      "display_name": "Python 3",
      "language": "python",
      "name": "python3"
    },
    "language_info": {
      "codemirror_mode": {
        "name": "ipython",
        "version": 3
      },
      "file_extension": ".py",
      "mimetype": "text/x-python",
      "name": "python",
      "nbconvert_exporter": "python",
      "pygments_lexer": "ipython3",
      "version": "3.6.0"
    }
  },
  "nbformat": 4,
  "nbformat_minor": 0
}
