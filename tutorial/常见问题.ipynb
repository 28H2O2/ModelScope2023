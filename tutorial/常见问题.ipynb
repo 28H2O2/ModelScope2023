{
  "cells": [
    {
      "cell_type": "markdown",
      "metadata": {},
      "source": [
        "本文整理了ModelScope模型使用过程中遇到的常见问题，希望能够通过此文档为您解答使用过程中的疑惑。\n",
        "\n",
        "**Q1：ModelScope社区平台的模型支持商用吗？**\n",
        "开源的模型商用需要遵循开源协议，具体可参考下对应的模型的开源协议。\n",
        "\n",
        "**Q2：pip install的时候有些包下载特别慢怎么办？**\n",
        "在国内pip安装的时候，如果默认是用海外的pypi源的话，可能因为网络问题，下载速度受限。建议在国内可以通过\"-i [https://pypi.tuna.tsinghua.edu.cn/simple](https://pypi.tuna.tsinghua.edu.cn/simple)\" 的命令行选项，来配置仓库来源使用\"清华源\"。例如：\n",
        "```shell\n",
        "pip install \"modelscope[nlp]\" -f https://modelscope.oss-cn-beijing.aliyuncs.com/releases/repo.html -i https://pypi.tuna.tsinghua.edu.cn/simple\n",
        "```\n",
        "\n",
        "**Q3：用git拉取模型到本地，发现模型文件和远程仓库文件大小不一致，是什么问题？**\n",
        "因部分文件使用lfs进行存储，需要先安装lfs工具。请检查下是否没有安装git lfs（pip list|grep lfs），如果没有安装，请使用git lfs install命令安装。具体可参见模型详情页的【快速使用】页面。\n",
        "\n",
        "**Q4：我的系统目前是Windows，使用某模型的时候报错，是什么问题？**\n",
        "ModelScope框架本身支持Windows环境的运行。但是平台上多种多样的模型，本身难免会有一些模型会部分依赖于系统环境，从而影响在Windows上的兼容性。 一方面您通过ModelScope网站上提供的notebook环境试用，另一方面，对于少数在Windows需要单独配置的模型，可以通过创建windows linux subsystem来模拟Linux环境，或者根据具体三方依赖包的官方网站说明，来在Windows环境下多独立安装。\n",
        "\n",
        "**Q5：ModelScope模型的使用依赖于互联网连接吗？**\n",
        "ModelScope通过Model Hub和Dataset Hub来进行模型和数据集的管理和版本管理。因此要获取最好的用户体验，我们建议尽量在联网环境下使用。这能确保您使用的模型和数据集都能是最新的版本，获取最好的模型和数据集。另一方面，如果您使用ModelScope开源模型的环境没有网络连接，那也可以通过将模型下载到本地，再从本地直接加载的方式来使用。具体范例如下：\n",
        "第一步：拉取模型数据到本地：\n"
      ]
    },
    {
      "cell_type": "code",
      "metadata": {
        "editable": true
      },
      "source": [
        "from modelscope.hub.snapshot_download import snapshot_download \n",
        "path = snapshot_download('damo/cv_convnextTiny_ocr-recognition-general_damo')\n",
        "print(path)\n"
      ],
      "outputs": [
        {
          "name": "stdout",
          "output_type": "stream",
          "text": [
            "\n"
          ]
        }
      ],
      "execution_count": 1
    },
    {
      "cell_type": "markdown",
      "metadata": {},
      "source": [
        "第二步：然后把模型数据（即path文件夹的内容），拷贝到一个新的本地路径 new_path. \n",
        "第三部：通过本地路径来加载模型，构建pipeline。\n"
      ]
    },
    {
      "cell_type": "code",
      "metadata": {
        "editable": true
      },
      "source": [
        " ocr_recognition = pipeline(Tasks.ocr_recognition, model=new_path)\n"
      ],
      "outputs": [
        {
          "name": "stdout",
          "output_type": "stream",
          "text": [
            "\n"
          ]
        }
      ],
      "execution_count": 1
    },
    {
      "cell_type": "markdown",
      "metadata": {},
      "source": [
        " 注意：这里需要再次强调的是，使用这种方式如果社区有模型有更新的话，则无法直接检测到。\n",
        "\n",
        "**Q6：环境mac os x86,系统Ventura 13 Beta 13，环境安装报错“missing xcrun at: /Library/Developer/CommandLineTools/usr/bin/xcrun”**\n",
        "MBP新环境碰到这个问题，您需要执行xcode-select --install。\n",
        "\n",
        "**Q7：基础大模型下载下来之后如何支持下游模型？**\n",
        "针对大模型您可以尝试zeroshot，fine tune后会有更好的表现。\n",
        "\n",
        "**Q7：多卡环境，如何指定卡推理？**\n",
        "推理可以传递参数device，pipeline参数: device 设置 'gpu:0' 即可。\n",
        "\n",
        "**Q8：zero-shot分类模型可以用下游的自己的数据作微调吗？**\n",
        "可以。如果您的数据label变化较大，出于追求模型效果，classifier可以init weight处理。如果您的数据label变化不大，可以直接在classifier上继续微调。\n"
      ]
    }
  ],
  "metadata": {
    "kernelspec": {
      "display_name": "Python 3",
      "language": "python",
      "name": "python3"
    },
    "language_info": {
      "codemirror_mode": {
        "name": "ipython",
        "version": 3
      },
      "file_extension": ".py",
      "mimetype": "text/x-python",
      "name": "python",
      "nbconvert_exporter": "python",
      "pygments_lexer": "ipython3",
      "version": "3.6.0"
    }
  },
  "nbformat": 4,
  "nbformat_minor": 0
}
