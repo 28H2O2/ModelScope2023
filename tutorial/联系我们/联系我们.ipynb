{
  "cells": [
    {
      "cell_type": "markdown",
      "metadata": {},
      "source": [
        "感谢关注ModelScope模型开源社区！您可以通过如下方式联系我们，期待您的参与！\n",
        "\n",
        "- 联系邮箱：\u003ccontact@modelscope.cn\u003e\n",
        "- 微信公众号：ModelScope\n",
        "\n",
        "加入技术交流群：\n",
        "钉钉群（群号：44837352 ）\n",
        "![IMG_8804.JPG](./resources/1659514651449-bb55462c-d04a-4a25-b7a2-2e2f13a1f290.jpeg)\n",
        "\n"
      ]
    }
  ],
  "metadata": {
    "kernelspec": {
      "display_name": "Python 3",
      "language": "python",
      "name": "python3"
    },
    "language_info": {
      "codemirror_mode": {
        "name": "ipython",
        "version": 3
      },
      "file_extension": ".py",
      "mimetype": "text/x-python",
      "name": "python",
      "nbconvert_exporter": "python",
      "pygments_lexer": "ipython3",
      "version": "3.6.0"
    }
  },
  "nbformat": 4,
  "nbformat_minor": 0
}
