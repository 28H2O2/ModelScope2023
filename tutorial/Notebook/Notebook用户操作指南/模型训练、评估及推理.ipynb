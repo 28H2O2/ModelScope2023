{
  "cells": [
    {
      "cell_type": "markdown",
      "metadata": {},
      "source": [
        "本文将介绍如何在Notebook内进行模型训练、评估及推理。关于使用Notebook进行模型推理、训练、评估的实训案例，您可以参考 [如何使用Notebook运行模型](../../ModelScope%20Library教程/如何使用Notebook运行模型.ipynb) 。\n",
        "# 模型推理\n",
        "\n",
        "- 关于模型推理的详细介绍，包括**环境准备**、**示例代码**、**支持推理的Task类型等**，请参考文档 [模型的推理](../../ModelScope%20Library教程/模型的推理Pipeline.ipynb)。\n",
        "# 模型训练\n",
        "\n",
        "- 关于模型的训练资源要求，具体可参看模型的readme文件说明选择您所需运行的实例环境。\n",
        "- 关于模型训练的详细介绍，包括**调用流程**、**支持训练的模型列表**等，请参考文档 [模型的训练](../../ModelScope%20Library教程/模型的训练Train.ipynb)。\n",
        "- 大部分支持训练的任务需要占用GPU资源，因此需要您打开GPU实例。若资源环境不满足训练任务要求，提交训练任务后将进行报错提示。\n",
        "# 模型评估\n",
        "\n",
        "- 关于模型评估的详细介绍，包括**评测方法**、**示例代码**、**各任务类型推荐的评测集**等，请参考文档[ 模型的评估](../../ModelScope%20Library教程/模型的评估.ipynb)。\n",
        "- 您同样可以参考**模型Readme**内介绍，选择合适评测集和评测指标。\n",
        "# \n",
        "\n"
      ]
    }
  ],
  "metadata": {
    "kernelspec": {
      "display_name": "Python 3",
      "language": "python",
      "name": "python3"
    },
    "language_info": {
      "codemirror_mode": {
        "name": "ipython",
        "version": 3
      },
      "file_extension": ".py",
      "mimetype": "text/x-python",
      "name": "python",
      "nbconvert_exporter": "python",
      "pygments_lexer": "ipython3",
      "version": "3.6.0"
    }
  },
  "nbformat": 4,
  "nbformat_minor": 0
}
