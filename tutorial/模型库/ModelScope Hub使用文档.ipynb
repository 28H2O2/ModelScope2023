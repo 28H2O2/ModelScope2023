{
  "cells": [
    {
      "cell_type": "markdown",
      "metadata": {},
      "source": [
        "## 1. ModelScope Hub安装\n",
        "ModelScope Hub集成在ModelScope Library中，安装参考[环境安装](../快速入门/环境安装.ipynb)。\n",
        "## 2. 快速开始\n",
        "### 2.1 环境配置\n",
        "使用ModelScope Hub，请确保您的环境中安装git和git-lfs。对于mac和linux操作系统，git是自带的，而git-lfs需要自行安装。\n",
        "\u003e 注意：需确保** **git-lfs \u003e=2.5.0 , git \u003e= 2.3.0\n",
        "\n",
        "- MacOS安装git lfs \n",
        "```bash\n",
        "brew install git-lfs\n",
        "```\n",
        "\n",
        "- centos安装git lfs\n",
        "   - 首先在[git-lfs官网](https://git-lfs.github.com/)下载对应的rpm包，然后运行：\n",
        "```bash\n",
        "sudo rpm -ivh \u003c包名\u003e.rpm\n",
        "git lfs install\n",
        "```\n",
        "### 2.2 前置要求\n",
        "如果要使用非公开模型，需要先登录，公开模型无需登录。\n"
      ]
    },
    {
      "cell_type": "code",
      "metadata": {
        "editable": true
      },
      "source": [
        "from modelscope.hub.api import HubApi\n",
        "\n",
        "YOUR_ACCESS_TOKEN = '请从ModelScope个人中心-\u003e访问令牌获取'\n",
        "api = HubApi()\n",
        "api.login(YOUR_ACCESS_TOKEN)\n"
      ],
      "outputs": [
        {
          "name": "stdout",
          "output_type": "stream",
          "text": [
            "\n"
          ]
        }
      ],
      "execution_count": 1
    },
    {
      "cell_type": "markdown",
      "metadata": {},
      "source": [
        "\u003e 注意1：您只用调用一次登录接口，系统会保留登录信息，后续的调用都可以自动完成鉴权，有效期30天，公开  \n",
        "\u003e                模型不需要登录也可以下载。\n",
        "\u003e 注意2: 对于非公开模型您必须登录。\n",
        "\u003e 注意3: 如果要上传模型，您必须登录。\n",
        "\u003e 如何获取Access token：用您申请的用户名密码登录www.modelscope.cn，在个人中心-\u003e访问令牌 页面即可获取\n",
        "\u003e ![image.png](./resources/1659851963726-208f09c1-9a0a-404b-ae74-710598aef61f.png)\n",
        "\n",
        "### 2.3 首次拉取模型仓库到本地\n",
        "\u003e Repository对象用于后续模型版本管理，如一次性推送所有本地修改到ModelScope Hub\n",
        "\u003e 注意：首次拉取时，请确保`clone_from`参数传入正确的值\n",
        "\n"
      ]
    },
    {
      "cell_type": "code",
      "metadata": {
        "editable": true
      },
      "source": [
        "from modelscope.hub.repository import Repository\n",
        "from modelscope.hub.api import HubApi\n",
        "\n",
        "YOUR_ACCESS_TOKEN = '请从ModelScope个人中心-\u003e访问令牌获取'\n",
        "\n",
        "api = HubApi()\n",
        "api.login(YOUR_ACCESS_TOKEN)\n",
        "repo = Repository(\n",
        "    model_dir=\"/tmp/resnet\",\n",
        "    clone_from=\"citest/resnet\",\n",
        ")\n",
        "\n"
      ],
      "outputs": [
        {
          "name": "stdout",
          "output_type": "stream",
          "text": [
            "\n"
          ]
        }
      ],
      "execution_count": 1
    },
    {
      "cell_type": "markdown",
      "metadata": {},
      "source": [
        "### 2.4 将模型仓库的修改提交到ModelScope Hub中\n",
        "\u003e 在此之前，请确保在本地进行过修改，如修改文件或添加新文件\n",
        "\u003e 由于模型仓库在本地已存在，因此请不要传入`clone_from`参数，以免再次clone\n",
        "\n"
      ]
    },
    {
      "cell_type": "code",
      "metadata": {
        "editable": true
      },
      "source": [
        "from modelscope.hub.repository import Repository\n",
        "from modelscope.hub.api import HubApi\n",
        "\n",
        "YOUR_ACCESS_TOKEN = '请从ModelScope个人中心-\u003e访问令牌获取'\n",
        "\n",
        "api = HubApi()\n",
        "api.login(YOUR_ACCESS_TOKEN)\n",
        "repo = Repository(\n",
        "    model_dir=\"workspace/my_model_dir\",\n",
        ")\n",
        "repo.push(commit_message=\"Add tf model file\")\n"
      ],
      "outputs": [
        {
          "name": "stdout",
          "output_type": "stream",
          "text": [
            "\n"
          ]
        }
      ],
      "execution_count": 1
    },
    {
      "cell_type": "markdown",
      "metadata": {},
      "source": [
        "\u003e 注意上传模型需要您通过API已经进行过login操作，并且在有效期内。\n",
        "\n",
        "### 2.5 下载指定文件\n",
        "\u003e 说明：如果只是想下载某个指定文件，或者您的业务代码中有控制文件下载的逻辑且不需要进行版本管理，都可以直接调用该方法\n",
        "\n"
      ]
    },
    {
      "cell_type": "code",
      "metadata": {
        "editable": true
      },
      "source": [
        "from modelscope.hub.file_download import model_file_download\n",
        "from modelscope.hub.api import HubApi\n",
        "\n",
        "YOUR_ACCESS_TOKEN = '请从ModelScope个人中心-\u003e访问令牌获取'\n",
        "api = HubApi()\n",
        "api.login(YOUR_ACCESS_TOKEN)\n",
        "downladed_file_path = model_file_download(\n",
        "    model_id=\"damo/the_model_id\",\n",
        "    file_path=\"README.ipynb\"\n",
        ")\n",
        "\n"
      ],
      "outputs": [
        {
          "name": "stdout",
          "output_type": "stream",
          "text": [
            "\n"
          ]
        }
      ],
      "execution_count": 1
    },
    {
      "cell_type": "markdown",
      "metadata": {},
      "source": [
        "\n",
        "### 2.6 下载整个模型repo（snapshot_download）\n",
        "\u003e 说明：与`Repository()`不同的是，`snapshot_download`不需要安装git，但由于本地模型目录不维护版本信息，意味着你也不能通过git命令将修改推送到ModelScope Hub。因此，`snapshot_download`一般用于ModelScope Library内部调用的场景，例如用`pipeline`做推理\n",
        "\n"
      ]
    },
    {
      "cell_type": "code",
      "metadata": {
        "editable": true
      },
      "source": [
        "from modelscope.hub.snapshot_download import snapshot_download\n",
        "from modelscope.hub.api import HubApi\n",
        "\n",
        "YOUR_ACCESS_TOKEN = '请从ModelScope个人中心-\u003e访问令牌获取'\n",
        "\n",
        "api = HubApi()\n",
        "api.login(YOUR_ACCESS_TOKEN)\n",
        "model_downloaded_path = snapshot_download(\n",
        "    model_id=\"damo/nlp_space_dialog-modeling\",\n",
        "    cache_dir=\"my_model_cache_dir\" # 本地保存目录，默认为 ~/.cache/modelscope/hub\n",
        ")\n"
      ],
      "outputs": [
        {
          "name": "stdout",
          "output_type": "stream",
          "text": [
            "\n"
          ]
        }
      ],
      "execution_count": 1
    },
    {
      "cell_type": "markdown",
      "metadata": {},
      "source": [
        "\n"
      ]
    }
  ],
  "metadata": {
    "kernelspec": {
      "display_name": "Python 3",
      "language": "python",
      "name": "python3"
    },
    "language_info": {
      "codemirror_mode": {
        "name": "ipython",
        "version": 3
      },
      "file_extension": ".py",
      "mimetype": "text/x-python",
      "name": "python",
      "nbconvert_exporter": "python",
      "pygments_lexer": "ipython3",
      "version": "3.6.0"
    }
  },
  "nbformat": 4,
  "nbformat_minor": 0
}
